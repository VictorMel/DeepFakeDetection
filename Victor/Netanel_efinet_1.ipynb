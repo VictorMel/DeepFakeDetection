{
 "cells": [
  {
   "cell_type": "code",
   "execution_count": null,
   "metadata": {},
   "outputs": [],
   "source": [
    "from efficientnet_pytorch_3d import EfficientNet3D\n",
    "import torch\n",
    "\n",
    "model = EfficientNet3D.from_name(\"efficientnet-b0\", override_params={'num_classes': 2}, in_channels=1)\n",
    "\n",
    "from torchsummary import summary\n",
    "summary(model, input_size=(1, 200, 200, 200))\n",
    "\n",
    "model = model.cuda()\n",
    "inputs = torch.randn((1, 1, 200, 200, 200)).cuda()\n",
    "labels = torch.tensor([0]).cuda()\n",
    "# test forward\n",
    "num_classes = 2\n",
    "\n",
    "criterion = torch.nn.CrossEntropyLoss()\n",
    "optimizer = torch.optim.SGD(model.parameters(), lr=0.001, momentum=0.9)\n",
    "\n",
    "model.train()\n",
    "for epoch in range(2):\n",
    "    # zero the parameter gradients\n",
    "    optimizer.zero_grad()\n",
    "\n",
    "    # forward + backward + optimize\n",
    "    outputs = model(inputs)\n",
    "    loss = criterion(outputs, labels)\n",
    "    loss.backward()\n",
    "    optimizer.step()\n",
    "\n",
    "    # print statistics\n",
    "    print('[%d] loss: %.3f' % (epoch + 1, loss.item()))\n",
    "\n",
    "print('Finished Training')"
   ]
  }
 ],
 "metadata": {
  "language_info": {
   "name": "python"
  }
 },
 "nbformat": 4,
 "nbformat_minor": 2
}
