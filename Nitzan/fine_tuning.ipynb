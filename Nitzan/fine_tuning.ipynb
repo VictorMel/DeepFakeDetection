{
 "cells": [
  {
   "cell_type": "code",
   "execution_count": 37,
   "metadata": {},
   "outputs": [
    {
     "name": "stdout",
     "output_type": "stream",
     "text": [
      "Using device cuda\n"
     ]
    }
   ],
   "source": [
    "import torch\n",
    "import torch.nn as nn\n",
    "from torch.utils.data import DataLoader\n",
    "import torchvision.transforms.v2 as transforms\n",
    "from torchvision.models.video import r2plus1d_18, R2Plus1D_18_Weights\n",
    "from os import path\n",
    "import torchinfo\n",
    "\n",
    "from train_model import TrainModel\n",
    "from video_tensor_dataset import VideoTensorDataset\n",
    "\n",
    "BATCH_SIZE = 3\n",
    "NUM_EPOCHS = 10\n",
    "DEVICE = torch.device(\"cuda\" if torch.cuda.is_available() else \"cpu\")\n",
    "print(f\"Using device {DEVICE}\")"
   ]
  },
  {
   "cell_type": "code",
   "execution_count": 38,
   "metadata": {},
   "outputs": [],
   "source": [
    "MY_NAME_IS = 'Nitzan'\n",
    "\n",
    "DATA_FOLDER_DICT = {\n",
    "    'Victor': ['E:\\DeepFakeDetection\\dfdc_train_all','E:\\DeepFakeDetection\\smalldata'],\n",
    "    'Nitzan': ['D:\\dfdc','D:\\dfdc_small5'],\n",
    "    'Netanel':['F:\\input','F:\\input']\n",
    "  }\n",
    "\n",
    "BIG_DATA_FOLDER, SMALL_DATA_FOLDER = DATA_FOLDER_DICT[MY_NAME_IS]\n",
    "\n",
    "TRAIN_PARTS = [1, 2, 3, 4, 5, 6, 7, 8, 9]\n",
    "VALIDATION_PARTS = [10, 11, 12]"
   ]
  },
  {
   "cell_type": "code",
   "execution_count": 39,
   "metadata": {},
   "outputs": [],
   "source": [
    "model = r2plus1d_18(weights=R2Plus1D_18_Weights.DEFAULT)"
   ]
  },
  {
   "cell_type": "code",
   "execution_count": 40,
   "metadata": {},
   "outputs": [
    {
     "data": {
      "text/plain": [
       "===============================================================================================\n",
       "Layer (type:depth-idx)                        Output Shape              Param #\n",
       "===============================================================================================\n",
       "VideoResNet                                   [3, 1]                    --\n",
       "├─R2Plus1dStem: 1-1                           [3, 64, 16, 56, 56]       --\n",
       "│    └─Conv3d: 2-1                            [3, 45, 16, 56, 56]       (6,615)\n",
       "│    └─BatchNorm3d: 2-2                       [3, 45, 16, 56, 56]       (90)\n",
       "│    └─ReLU: 2-3                              [3, 45, 16, 56, 56]       --\n",
       "│    └─Conv3d: 2-4                            [3, 64, 16, 56, 56]       (8,640)\n",
       "│    └─BatchNorm3d: 2-5                       [3, 64, 16, 56, 56]       (128)\n",
       "│    └─ReLU: 2-6                              [3, 64, 16, 56, 56]       --\n",
       "├─Sequential: 1-2                             [3, 64, 16, 56, 56]       --\n",
       "│    └─BasicBlock: 2-7                        [3, 64, 16, 56, 56]       --\n",
       "│    │    └─Sequential: 3-1                   [3, 64, 16, 56, 56]       (111,008)\n",
       "│    │    └─Sequential: 3-2                   [3, 64, 16, 56, 56]       (111,008)\n",
       "│    │    └─ReLU: 3-3                         [3, 64, 16, 56, 56]       --\n",
       "│    └─BasicBlock: 2-8                        [3, 64, 16, 56, 56]       --\n",
       "│    │    └─Sequential: 3-4                   [3, 64, 16, 56, 56]       (111,008)\n",
       "│    │    └─Sequential: 3-5                   [3, 64, 16, 56, 56]       (111,008)\n",
       "│    │    └─ReLU: 3-6                         [3, 64, 16, 56, 56]       --\n",
       "├─Sequential: 1-3                             [3, 128, 8, 28, 28]       --\n",
       "│    └─BasicBlock: 2-9                        [3, 128, 8, 28, 28]       --\n",
       "│    │    └─Sequential: 3-7                   [3, 128, 8, 28, 28]       (221,516)\n",
       "│    │    └─Sequential: 3-8                   [3, 128, 8, 28, 28]       (353,996)\n",
       "│    │    └─Sequential: 3-9                   [3, 128, 8, 28, 28]       (8,448)\n",
       "│    │    └─ReLU: 3-10                        [3, 128, 8, 28, 28]       --\n",
       "│    └─BasicBlock: 2-10                       [3, 128, 8, 28, 28]       --\n",
       "│    │    └─Sequential: 3-11                  [3, 128, 8, 28, 28]       (443,200)\n",
       "│    │    └─Sequential: 3-12                  [3, 128, 8, 28, 28]       (443,200)\n",
       "│    │    └─ReLU: 3-13                        [3, 128, 8, 28, 28]       --\n",
       "├─Sequential: 1-4                             [3, 256, 4, 14, 14]       --\n",
       "│    └─BasicBlock: 2-11                       [3, 256, 4, 14, 14]       --\n",
       "│    │    └─Sequential: 3-14                  [3, 256, 4, 14, 14]       (884,632)\n",
       "│    │    └─Sequential: 3-15                  [3, 256, 4, 14, 14]       (1,414,552)\n",
       "│    │    └─Sequential: 3-16                  [3, 256, 4, 14, 14]       (33,280)\n",
       "│    │    └─ReLU: 3-17                        [3, 256, 4, 14, 14]       --\n",
       "│    └─BasicBlock: 2-12                       [3, 256, 4, 14, 14]       --\n",
       "│    │    └─Sequential: 3-18                  [3, 256, 4, 14, 14]       (1,771,136)\n",
       "│    │    └─Sequential: 3-19                  [3, 256, 4, 14, 14]       (1,771,136)\n",
       "│    │    └─ReLU: 3-20                        [3, 256, 4, 14, 14]       --\n",
       "├─Sequential: 1-5                             [3, 512, 2, 7, 7]         --\n",
       "│    └─BasicBlock: 2-13                       [3, 512, 2, 7, 7]         --\n",
       "│    │    └─Sequential: 3-21                  [3, 512, 2, 7, 7]         3,539,506\n",
       "│    │    └─Sequential: 3-22                  [3, 512, 2, 7, 7]         5,661,490\n",
       "│    │    └─Sequential: 3-23                  [3, 512, 2, 7, 7]         132,096\n",
       "│    │    └─ReLU: 3-24                        [3, 512, 2, 7, 7]         --\n",
       "│    └─BasicBlock: 2-14                       [3, 512, 2, 7, 7]         --\n",
       "│    │    └─Sequential: 3-25                  [3, 512, 2, 7, 7]         7,081,216\n",
       "│    │    └─Sequential: 3-26                  [3, 512, 2, 7, 7]         7,081,216\n",
       "│    │    └─ReLU: 3-27                        [3, 512, 2, 7, 7]         --\n",
       "├─AdaptiveAvgPool3d: 1-6                      [3, 512, 1, 1, 1]         --\n",
       "├─Sequential: 1-7                             [3, 1]                    --\n",
       "│    └─Linear: 2-15                           [3, 128]                  65,664\n",
       "│    └─ReLU: 2-16                             [3, 128]                  --\n",
       "│    └─Linear: 2-17                           [3, 32]                   4,128\n",
       "│    └─ReLU: 2-18                             [3, 32]                   --\n",
       "│    └─Linear: 2-19                           [3, 1]                    33\n",
       "===============================================================================================\n",
       "Total params: 31,369,950\n",
       "Trainable params: 23,565,349\n",
       "Non-trainable params: 7,804,601\n",
       "Total mult-adds (Units.GIGABYTES): 121.56\n",
       "===============================================================================================\n",
       "Input size (MB): 7.23\n",
       "Forward/backward pass size (MB): 3019.50\n",
       "Params size (MB): 125.48\n",
       "Estimated Total Size (MB): 3152.20\n",
       "==============================================================================================="
      ]
     },
     "execution_count": 40,
     "metadata": {},
     "output_type": "execute_result"
    }
   ],
   "source": [
    "# Replace head\n",
    "\n",
    "model.fc = nn.Sequential(\n",
    "    nn.Linear(model.fc.in_features, 128, device=DEVICE),\n",
    "    nn.ReLU(),\n",
    "    nn.Linear(128, 32, device=DEVICE),\n",
    "    nn.ReLU(),\n",
    "    nn.Linear(32, 1, device=DEVICE),\n",
    ")\n",
    "\n",
    "# Freeze all layers except the new head\n",
    "for key, params in model.named_parameters():\n",
    "    if not (key.startswith('fc') or key.startswith('layer4')):\n",
    "        params.requires_grad = False\n",
    "    # print(key, params.requires_grad)\n",
    "\n",
    "model.to(device=DEVICE)\n",
    "torchinfo.summary(model, input_size=(BATCH_SIZE, 3, 16, 112, 112))\n",
    "\n"
   ]
  },
  {
   "cell_type": "code",
   "execution_count": 41,
   "metadata": {},
   "outputs": [
    {
     "name": "stdout",
     "output_type": "stream",
     "text": [
      "Number of learnable parameters: 23565349\n"
     ]
    }
   ],
   "source": [
    "# Print number of learnable parameters\n",
    "num_learnable_params = sum(p.numel() for p in model.parameters() if p.requires_grad)\n",
    "\n",
    "print(f\"Number of learnable parameters: {num_learnable_params}\")"
   ]
  },
  {
   "cell_type": "code",
   "execution_count": 42,
   "metadata": {},
   "outputs": [],
   "source": [
    "# Taken from https://github.com/pytorch/vision/tree/main/references/video_classification\n",
    "mean = torch.tensor([0.43216, 0.394666, 0.37645], device=DEVICE)[None, None, None, :]\n",
    "std = torch.tensor([0.22803, 0.22145, 0.216989], device=DEVICE)[None, None, None, :]\n",
    "\n",
    "# Initialize train and validation datasets\n",
    "# TODO videodataset root paths and transforms - this depends on Victor's offline preprocessing \n",
    "train_roots = [path.join(SMALL_DATA_FOLDER, str(i)) for i in TRAIN_PARTS]\n",
    "train_transform = transforms.Compose([\n",
    "    transforms.ToImage(),\n",
    "    transforms.ToDtype(torch.float32),\n",
    "    transforms.Lambda(lambda video: torch.narrow(video, 0, 0, 95)),\n",
    "    transforms.Lambda(lambda video: (video - mean) / std),\n",
    "    # video is in shape (T, H, W, C), we need to permute it to (C, T, H, W)\n",
    "    transforms.Lambda(lambda video: video.permute(3, 0, 1, 2)),\n",
    "])\n",
    "\n",
    "train_ds = VideoTensorDataset(\n",
    "  original_data_path=BIG_DATA_FOLDER,\n",
    "  device=DEVICE, \n",
    "  tensor_data_paths=train_roots, \n",
    "  transform=train_transform\n",
    ")\n",
    "\n",
    "validation_roots = [path.join(SMALL_DATA_FOLDER, str(i)) for i in VALIDATION_PARTS]\n",
    "validation_transform = train_transform\n",
    "\n",
    "validation_ds = VideoTensorDataset(\n",
    "  original_data_path=BIG_DATA_FOLDER, \n",
    "  device=DEVICE,\n",
    "  tensor_data_paths=validation_roots, \n",
    "  transform=validation_transform\n",
    ")\n",
    "\n",
    "# Initialize dataloaders\n",
    "\n",
    "train_dl = DataLoader(train_ds, batch_size=BATCH_SIZE, shuffle=True)\n",
    "validation_dl = DataLoader(validation_ds, batch_size=BATCH_SIZE, shuffle=False)"
   ]
  },
  {
   "cell_type": "code",
   "execution_count": 43,
   "metadata": {},
   "outputs": [
    {
     "name": "stdout",
     "output_type": "stream",
     "text": [
      "torch.Size([3, 3, 95, 112, 112]) torch.Size([3])\n"
     ]
    }
   ],
   "source": [
    "batch, labels = next(iter(train_dl))\n",
    "print(batch.shape, labels.shape)"
   ]
  },
  {
   "cell_type": "code",
   "execution_count": 44,
   "metadata": {},
   "outputs": [],
   "source": [
    "from torchvision.ops import sigmoid_focal_loss\n",
    "from torchmetrics.classification import BinaryMatthewsCorrCoef\n",
    "\n",
    "# optimizer = torch.optim.SGD(model.parameters(), lr=1e-5)\n",
    "\n",
    "optimizer = torch.optim.SGD([\n",
    "    { 'params': model.fc.parameters(), 'lr': 8e-4 },\n",
    "    { 'params': model.layer4.parameters(), 'lr': 1e-4 },\n",
    "], lr=3e-4)\n",
    "\n",
    "epoch_size = len(train_dl) // BATCH_SIZE\n",
    "scheduler = torch.optim.lr_scheduler.CyclicLR(optimizer, mode='triangular2', base_lr=3e-4, max_lr=8e-3, step_size_up=2*epoch_size)\n",
    "\n",
    "bce = nn.BCEWithLogitsLoss(reduction='mean', pos_weight=torch.tensor([0.2], device=DEVICE))\n",
    "def loss_fn(y_pred, y_true):\n",
    "    # return sigmoid_focal_loss(y_pred, torch.unsqueeze(y_true, 1), gamma=2, alpha=0.161, reduction='mean')\n",
    "    return bce(y_pred, torch.unsqueeze(y_true, 1))\n",
    "\n",
    "\n",
    "bmcc = BinaryMatthewsCorrCoef().to(device=DEVICE)\n",
    "def score_fn(y_pred, y_true): \n",
    "    return bmcc(y_pred, torch.unsqueeze(y_true, 1))"
   ]
  },
  {
   "cell_type": "code",
   "execution_count": 45,
   "metadata": {},
   "outputs": [
    {
     "name": "stdout",
     "output_type": "stream",
     "text": [
      "Epoch    1 / 10 | Train Loss:  0.152 | Val Loss:  0.373 | Train Score: -0.088 | Val Score:  0.464 | Epoch Time: 620.15 | <-- Checkpoint! |\n",
      "Epoch    2 / 10 | Train Loss:  0.143 | Val Loss:  0.416 | Train Score:  0.886 | Val Score:  0.464 | Epoch Time: 843.25 |\n",
      "Epoch    3 / 10 | Train Loss:  0.141 | Val Loss:  0.420 | Train Score:  0.885 | Val Score:  0.464 | Epoch Time: 856.58 |\n",
      "Train - Iteration:  16 / 567, loss: 0.060856"
     ]
    },
    {
     "ename": "KeyboardInterrupt",
     "evalue": "",
     "output_type": "error",
     "traceback": [
      "\u001b[1;31m---------------------------------------------------------------------------\u001b[0m",
      "\u001b[1;31mKeyboardInterrupt\u001b[0m                         Traceback (most recent call last)",
      "Cell \u001b[1;32mIn[45], line 3\u001b[0m\n\u001b[0;32m      1\u001b[0m \u001b[38;5;66;03m# Train the model!\u001b[39;00m\n\u001b[1;32m----> 3\u001b[0m model, train_loss, train_score, validation_loss, validation_score, _ \u001b[38;5;241m=\u001b[39m \u001b[43mTrainModel\u001b[49m\u001b[43m(\u001b[49m\n\u001b[0;32m      4\u001b[0m \u001b[43m  \u001b[49m\u001b[43mmodel\u001b[49m\u001b[43m,\u001b[49m\u001b[43m \u001b[49m\n\u001b[0;32m      5\u001b[0m \u001b[43m  \u001b[49m\u001b[43mtrain_dl\u001b[49m\u001b[43m,\u001b[49m\u001b[43m \u001b[49m\n\u001b[0;32m      6\u001b[0m \u001b[43m  \u001b[49m\u001b[43mvalidation_dl\u001b[49m\u001b[43m,\u001b[49m\u001b[43m \u001b[49m\n\u001b[0;32m      7\u001b[0m \u001b[43m  \u001b[49m\u001b[43moptimizer\u001b[49m\u001b[43m,\u001b[49m\u001b[43m \u001b[49m\n\u001b[0;32m      8\u001b[0m \u001b[43m  \u001b[49m\u001b[43mNUM_EPOCHS\u001b[49m\u001b[43m,\u001b[49m\u001b[43m \u001b[49m\n\u001b[0;32m      9\u001b[0m \u001b[43m  \u001b[49m\u001b[43mloss_fn\u001b[49m\u001b[43m,\u001b[49m\u001b[43m \u001b[49m\n\u001b[0;32m     10\u001b[0m \u001b[43m  \u001b[49m\u001b[43mscore_fn\u001b[49m\u001b[43m,\u001b[49m\n\u001b[0;32m     11\u001b[0m \u001b[43m)\u001b[49m\n",
      "File \u001b[1;32mc:\\Users\\Nitzan\\Documents\\Projects\\DeepFakeDetection\\Nitzan\\train_model.py:130\u001b[0m, in \u001b[0;36mTrainModel\u001b[1;34m(oModel, dlTrain, dlVal, oOpt, numEpoch, hL, hS, oSch)\u001b[0m\n\u001b[0;32m    128\u001b[0m \u001b[38;5;28;01mfor\u001b[39;00m ii \u001b[38;5;129;01min\u001b[39;00m \u001b[38;5;28mrange\u001b[39m(numEpoch):\n\u001b[0;32m    129\u001b[0m     startTime           \u001b[38;5;241m=\u001b[39m time\u001b[38;5;241m.\u001b[39mtime()\n\u001b[1;32m--> 130\u001b[0m     trainLoss, trainScr \u001b[38;5;241m=\u001b[39m \u001b[43mRunEpoch\u001b[49m\u001b[43m(\u001b[49m\u001b[43moModel\u001b[49m\u001b[43m,\u001b[49m\u001b[43m \u001b[49m\u001b[43mdlTrain\u001b[49m\u001b[43m,\u001b[49m\u001b[43m \u001b[49m\u001b[43mhL\u001b[49m\u001b[43m,\u001b[49m\u001b[43m \u001b[49m\u001b[43mhS\u001b[49m\u001b[43m,\u001b[49m\u001b[43m \u001b[49m\u001b[43moOpt\u001b[49m\u001b[43m,\u001b[49m\u001b[43m \u001b[49m\u001b[43mopMode\u001b[49m\u001b[43m \u001b[49m\u001b[38;5;241;43m=\u001b[39;49m\u001b[43m \u001b[49m\u001b[43mNNMode\u001b[49m\u001b[38;5;241;43m.\u001b[39;49m\u001b[43mTRAIN\u001b[49m\u001b[43m)\u001b[49m \u001b[38;5;66;03m#<! Train\u001b[39;00m\n\u001b[0;32m    131\u001b[0m     valLoss,   valScr   \u001b[38;5;241m=\u001b[39m RunEpoch(oModel, dlVal, hL, hS, oOpt, opMode \u001b[38;5;241m=\u001b[39m NNMode\u001b[38;5;241m.\u001b[39mINFERENCE) \u001b[38;5;66;03m#<! Score Validation\u001b[39;00m\n\u001b[0;32m    132\u001b[0m     \u001b[38;5;28;01mif\u001b[39;00m oSch \u001b[38;5;129;01mis\u001b[39;00m \u001b[38;5;129;01mnot\u001b[39;00m \u001b[38;5;28;01mNone\u001b[39;00m:\n\u001b[0;32m    133\u001b[0m         \u001b[38;5;66;03m# Adjusting the scheduler on Epoch level\u001b[39;00m\n",
      "File \u001b[1;32mc:\\Users\\Nitzan\\Documents\\Projects\\DeepFakeDetection\\Nitzan\\train_model.py:75\u001b[0m, in \u001b[0;36mRunEpoch\u001b[1;34m(oModel, dlData, hL, hS, oOpt, opMode)\u001b[0m\n\u001b[0;32m     71\u001b[0m         valLoss \u001b[38;5;241m=\u001b[39m hL(mZ, vY) \u001b[38;5;66;03m#<! Loss\u001b[39;00m\n\u001b[0;32m     73\u001b[0m \u001b[38;5;28;01mwith\u001b[39;00m torch\u001b[38;5;241m.\u001b[39mno_grad():\n\u001b[0;32m     74\u001b[0m     \u001b[38;5;66;03m# Score\u001b[39;00m\n\u001b[1;32m---> 75\u001b[0m     valScore \u001b[38;5;241m=\u001b[39m \u001b[43mhS\u001b[49m\u001b[43m(\u001b[49m\u001b[43mmZ\u001b[49m\u001b[43m,\u001b[49m\u001b[43m \u001b[49m\u001b[43mvY\u001b[49m\u001b[43m)\u001b[49m\n\u001b[0;32m     76\u001b[0m     \u001b[38;5;66;03m# Normalize so each sample has the same weight\u001b[39;00m\n\u001b[0;32m     77\u001b[0m     epochLoss  \u001b[38;5;241m+\u001b[39m\u001b[38;5;241m=\u001b[39m batchSize \u001b[38;5;241m*\u001b[39m valLoss\u001b[38;5;241m.\u001b[39mitem()\n",
      "Cell \u001b[1;32mIn[44], line 22\u001b[0m, in \u001b[0;36mscore_fn\u001b[1;34m(y_pred, y_true)\u001b[0m\n\u001b[0;32m     21\u001b[0m \u001b[38;5;28;01mdef\u001b[39;00m \u001b[38;5;21mscore_fn\u001b[39m(y_pred, y_true): \n\u001b[1;32m---> 22\u001b[0m     \u001b[38;5;28;01mreturn\u001b[39;00m \u001b[43mbmcc\u001b[49m\u001b[43m(\u001b[49m\u001b[43my_pred\u001b[49m\u001b[43m,\u001b[49m\u001b[43m \u001b[49m\u001b[43mtorch\u001b[49m\u001b[38;5;241;43m.\u001b[39;49m\u001b[43munsqueeze\u001b[49m\u001b[43m(\u001b[49m\u001b[43my_true\u001b[49m\u001b[43m,\u001b[49m\u001b[43m \u001b[49m\u001b[38;5;241;43m1\u001b[39;49m\u001b[43m)\u001b[49m\u001b[43m)\u001b[49m\n",
      "File \u001b[1;32mc:\\Users\\Nitzan\\miniconda3\\envs\\DL_env\\Lib\\site-packages\\torch\\nn\\modules\\module.py:1511\u001b[0m, in \u001b[0;36mModule._wrapped_call_impl\u001b[1;34m(self, *args, **kwargs)\u001b[0m\n\u001b[0;32m   1509\u001b[0m     \u001b[38;5;28;01mreturn\u001b[39;00m \u001b[38;5;28mself\u001b[39m\u001b[38;5;241m.\u001b[39m_compiled_call_impl(\u001b[38;5;241m*\u001b[39margs, \u001b[38;5;241m*\u001b[39m\u001b[38;5;241m*\u001b[39mkwargs)  \u001b[38;5;66;03m# type: ignore[misc]\u001b[39;00m\n\u001b[0;32m   1510\u001b[0m \u001b[38;5;28;01melse\u001b[39;00m:\n\u001b[1;32m-> 1511\u001b[0m     \u001b[38;5;28;01mreturn\u001b[39;00m \u001b[38;5;28;43mself\u001b[39;49m\u001b[38;5;241;43m.\u001b[39;49m\u001b[43m_call_impl\u001b[49m\u001b[43m(\u001b[49m\u001b[38;5;241;43m*\u001b[39;49m\u001b[43margs\u001b[49m\u001b[43m,\u001b[49m\u001b[43m \u001b[49m\u001b[38;5;241;43m*\u001b[39;49m\u001b[38;5;241;43m*\u001b[39;49m\u001b[43mkwargs\u001b[49m\u001b[43m)\u001b[49m\n",
      "File \u001b[1;32mc:\\Users\\Nitzan\\miniconda3\\envs\\DL_env\\Lib\\site-packages\\torch\\nn\\modules\\module.py:1520\u001b[0m, in \u001b[0;36mModule._call_impl\u001b[1;34m(self, *args, **kwargs)\u001b[0m\n\u001b[0;32m   1515\u001b[0m \u001b[38;5;66;03m# If we don't have any hooks, we want to skip the rest of the logic in\u001b[39;00m\n\u001b[0;32m   1516\u001b[0m \u001b[38;5;66;03m# this function, and just call forward.\u001b[39;00m\n\u001b[0;32m   1517\u001b[0m \u001b[38;5;28;01mif\u001b[39;00m \u001b[38;5;129;01mnot\u001b[39;00m (\u001b[38;5;28mself\u001b[39m\u001b[38;5;241m.\u001b[39m_backward_hooks \u001b[38;5;129;01mor\u001b[39;00m \u001b[38;5;28mself\u001b[39m\u001b[38;5;241m.\u001b[39m_backward_pre_hooks \u001b[38;5;129;01mor\u001b[39;00m \u001b[38;5;28mself\u001b[39m\u001b[38;5;241m.\u001b[39m_forward_hooks \u001b[38;5;129;01mor\u001b[39;00m \u001b[38;5;28mself\u001b[39m\u001b[38;5;241m.\u001b[39m_forward_pre_hooks\n\u001b[0;32m   1518\u001b[0m         \u001b[38;5;129;01mor\u001b[39;00m _global_backward_pre_hooks \u001b[38;5;129;01mor\u001b[39;00m _global_backward_hooks\n\u001b[0;32m   1519\u001b[0m         \u001b[38;5;129;01mor\u001b[39;00m _global_forward_hooks \u001b[38;5;129;01mor\u001b[39;00m _global_forward_pre_hooks):\n\u001b[1;32m-> 1520\u001b[0m     \u001b[38;5;28;01mreturn\u001b[39;00m \u001b[43mforward_call\u001b[49m\u001b[43m(\u001b[49m\u001b[38;5;241;43m*\u001b[39;49m\u001b[43margs\u001b[49m\u001b[43m,\u001b[49m\u001b[43m \u001b[49m\u001b[38;5;241;43m*\u001b[39;49m\u001b[38;5;241;43m*\u001b[39;49m\u001b[43mkwargs\u001b[49m\u001b[43m)\u001b[49m\n\u001b[0;32m   1522\u001b[0m \u001b[38;5;28;01mtry\u001b[39;00m:\n\u001b[0;32m   1523\u001b[0m     result \u001b[38;5;241m=\u001b[39m \u001b[38;5;28;01mNone\u001b[39;00m\n",
      "File \u001b[1;32mc:\\Users\\Nitzan\\miniconda3\\envs\\DL_env\\Lib\\site-packages\\torchmetrics\\metric.py:311\u001b[0m, in \u001b[0;36mMetric.forward\u001b[1;34m(self, *args, **kwargs)\u001b[0m\n\u001b[0;32m    309\u001b[0m     \u001b[38;5;28mself\u001b[39m\u001b[38;5;241m.\u001b[39m_forward_cache \u001b[38;5;241m=\u001b[39m \u001b[38;5;28mself\u001b[39m\u001b[38;5;241m.\u001b[39m_forward_full_state_update(\u001b[38;5;241m*\u001b[39margs, \u001b[38;5;241m*\u001b[39m\u001b[38;5;241m*\u001b[39mkwargs)\n\u001b[0;32m    310\u001b[0m \u001b[38;5;28;01melse\u001b[39;00m:\n\u001b[1;32m--> 311\u001b[0m     \u001b[38;5;28mself\u001b[39m\u001b[38;5;241m.\u001b[39m_forward_cache \u001b[38;5;241m=\u001b[39m \u001b[38;5;28;43mself\u001b[39;49m\u001b[38;5;241;43m.\u001b[39;49m\u001b[43m_forward_reduce_state_update\u001b[49m\u001b[43m(\u001b[49m\u001b[38;5;241;43m*\u001b[39;49m\u001b[43margs\u001b[49m\u001b[43m,\u001b[49m\u001b[43m \u001b[49m\u001b[38;5;241;43m*\u001b[39;49m\u001b[38;5;241;43m*\u001b[39;49m\u001b[43mkwargs\u001b[49m\u001b[43m)\u001b[49m\n\u001b[0;32m    313\u001b[0m \u001b[38;5;28;01mreturn\u001b[39;00m \u001b[38;5;28mself\u001b[39m\u001b[38;5;241m.\u001b[39m_forward_cache\n",
      "File \u001b[1;32mc:\\Users\\Nitzan\\miniconda3\\envs\\DL_env\\Lib\\site-packages\\torchmetrics\\metric.py:380\u001b[0m, in \u001b[0;36mMetric._forward_reduce_state_update\u001b[1;34m(self, *args, **kwargs)\u001b[0m\n\u001b[0;32m    377\u001b[0m \u001b[38;5;28mself\u001b[39m\u001b[38;5;241m.\u001b[39m_enable_grad \u001b[38;5;241m=\u001b[39m \u001b[38;5;28;01mTrue\u001b[39;00m  \u001b[38;5;66;03m# allow grads for batch computation\u001b[39;00m\n\u001b[0;32m    379\u001b[0m \u001b[38;5;66;03m# calculate batch state and compute batch value\u001b[39;00m\n\u001b[1;32m--> 380\u001b[0m \u001b[38;5;28;43mself\u001b[39;49m\u001b[38;5;241;43m.\u001b[39;49m\u001b[43mupdate\u001b[49m\u001b[43m(\u001b[49m\u001b[38;5;241;43m*\u001b[39;49m\u001b[43margs\u001b[49m\u001b[43m,\u001b[49m\u001b[43m \u001b[49m\u001b[38;5;241;43m*\u001b[39;49m\u001b[38;5;241;43m*\u001b[39;49m\u001b[43mkwargs\u001b[49m\u001b[43m)\u001b[49m\n\u001b[0;32m    381\u001b[0m batch_val \u001b[38;5;241m=\u001b[39m \u001b[38;5;28mself\u001b[39m\u001b[38;5;241m.\u001b[39mcompute()\n\u001b[0;32m    383\u001b[0m \u001b[38;5;66;03m# reduce batch and global state\u001b[39;00m\n",
      "File \u001b[1;32mc:\\Users\\Nitzan\\miniconda3\\envs\\DL_env\\Lib\\site-packages\\torchmetrics\\metric.py:482\u001b[0m, in \u001b[0;36mMetric._wrap_update.<locals>.wrapped_func\u001b[1;34m(*args, **kwargs)\u001b[0m\n\u001b[0;32m    480\u001b[0m \u001b[38;5;28;01mwith\u001b[39;00m torch\u001b[38;5;241m.\u001b[39mset_grad_enabled(\u001b[38;5;28mself\u001b[39m\u001b[38;5;241m.\u001b[39m_enable_grad):\n\u001b[0;32m    481\u001b[0m     \u001b[38;5;28;01mtry\u001b[39;00m:\n\u001b[1;32m--> 482\u001b[0m         \u001b[43mupdate\u001b[49m\u001b[43m(\u001b[49m\u001b[38;5;241;43m*\u001b[39;49m\u001b[43margs\u001b[49m\u001b[43m,\u001b[49m\u001b[43m \u001b[49m\u001b[38;5;241;43m*\u001b[39;49m\u001b[38;5;241;43m*\u001b[39;49m\u001b[43mkwargs\u001b[49m\u001b[43m)\u001b[49m\n\u001b[0;32m    483\u001b[0m     \u001b[38;5;28;01mexcept\u001b[39;00m \u001b[38;5;167;01mRuntimeError\u001b[39;00m \u001b[38;5;28;01mas\u001b[39;00m err:\n\u001b[0;32m    484\u001b[0m         \u001b[38;5;28;01mif\u001b[39;00m \u001b[38;5;124m\"\u001b[39m\u001b[38;5;124mExpected all tensors to be on\u001b[39m\u001b[38;5;124m\"\u001b[39m \u001b[38;5;129;01min\u001b[39;00m \u001b[38;5;28mstr\u001b[39m(err):\n",
      "File \u001b[1;32mc:\\Users\\Nitzan\\miniconda3\\envs\\DL_env\\Lib\\site-packages\\torchmetrics\\classification\\confusion_matrix.py:139\u001b[0m, in \u001b[0;36mBinaryConfusionMatrix.update\u001b[1;34m(self, preds, target)\u001b[0m\n\u001b[0;32m    137\u001b[0m \u001b[38;5;250m\u001b[39m\u001b[38;5;124;03m\"\"\"Update state with predictions and targets.\"\"\"\u001b[39;00m\n\u001b[0;32m    138\u001b[0m \u001b[38;5;28;01mif\u001b[39;00m \u001b[38;5;28mself\u001b[39m\u001b[38;5;241m.\u001b[39mvalidate_args:\n\u001b[1;32m--> 139\u001b[0m     \u001b[43m_binary_confusion_matrix_tensor_validation\u001b[49m\u001b[43m(\u001b[49m\u001b[43mpreds\u001b[49m\u001b[43m,\u001b[49m\u001b[43m \u001b[49m\u001b[43mtarget\u001b[49m\u001b[43m,\u001b[49m\u001b[43m \u001b[49m\u001b[38;5;28;43mself\u001b[39;49m\u001b[38;5;241;43m.\u001b[39;49m\u001b[43mignore_index\u001b[49m\u001b[43m)\u001b[49m\n\u001b[0;32m    140\u001b[0m preds, target \u001b[38;5;241m=\u001b[39m _binary_confusion_matrix_format(preds, target, \u001b[38;5;28mself\u001b[39m\u001b[38;5;241m.\u001b[39mthreshold, \u001b[38;5;28mself\u001b[39m\u001b[38;5;241m.\u001b[39mignore_index)\n\u001b[0;32m    141\u001b[0m confmat \u001b[38;5;241m=\u001b[39m _binary_confusion_matrix_update(preds, target)\n",
      "File \u001b[1;32mc:\\Users\\Nitzan\\miniconda3\\envs\\DL_env\\Lib\\site-packages\\torchmetrics\\functional\\classification\\confusion_matrix.py:97\u001b[0m, in \u001b[0;36m_binary_confusion_matrix_tensor_validation\u001b[1;34m(preds, target, ignore_index)\u001b[0m\n\u001b[0;32m     94\u001b[0m _check_same_shape(preds, target)\n\u001b[0;32m     96\u001b[0m \u001b[38;5;66;03m# Check that target only contains {0,1} values or value in ignore_index\u001b[39;00m\n\u001b[1;32m---> 97\u001b[0m unique_values \u001b[38;5;241m=\u001b[39m \u001b[43mtorch\u001b[49m\u001b[38;5;241;43m.\u001b[39;49m\u001b[43munique\u001b[49m\u001b[43m(\u001b[49m\u001b[43mtarget\u001b[49m\u001b[43m)\u001b[49m\n\u001b[0;32m     98\u001b[0m \u001b[38;5;28;01mif\u001b[39;00m ignore_index \u001b[38;5;129;01mis\u001b[39;00m \u001b[38;5;28;01mNone\u001b[39;00m:\n\u001b[0;32m     99\u001b[0m     check \u001b[38;5;241m=\u001b[39m torch\u001b[38;5;241m.\u001b[39many((unique_values \u001b[38;5;241m!=\u001b[39m \u001b[38;5;241m0\u001b[39m) \u001b[38;5;241m&\u001b[39m (unique_values \u001b[38;5;241m!=\u001b[39m \u001b[38;5;241m1\u001b[39m))\n",
      "File \u001b[1;32mc:\\Users\\Nitzan\\miniconda3\\envs\\DL_env\\Lib\\site-packages\\torch\\_jit_internal.py:499\u001b[0m, in \u001b[0;36mboolean_dispatch.<locals>.fn\u001b[1;34m(*args, **kwargs)\u001b[0m\n\u001b[0;32m    497\u001b[0m     \u001b[38;5;28;01mreturn\u001b[39;00m if_true(\u001b[38;5;241m*\u001b[39margs, \u001b[38;5;241m*\u001b[39m\u001b[38;5;241m*\u001b[39mkwargs)\n\u001b[0;32m    498\u001b[0m \u001b[38;5;28;01melse\u001b[39;00m:\n\u001b[1;32m--> 499\u001b[0m     \u001b[38;5;28;01mreturn\u001b[39;00m \u001b[43mif_false\u001b[49m\u001b[43m(\u001b[49m\u001b[38;5;241;43m*\u001b[39;49m\u001b[43margs\u001b[49m\u001b[43m,\u001b[49m\u001b[43m \u001b[49m\u001b[38;5;241;43m*\u001b[39;49m\u001b[38;5;241;43m*\u001b[39;49m\u001b[43mkwargs\u001b[49m\u001b[43m)\u001b[49m\n",
      "File \u001b[1;32mc:\\Users\\Nitzan\\miniconda3\\envs\\DL_env\\Lib\\site-packages\\torch\\_jit_internal.py:499\u001b[0m, in \u001b[0;36mboolean_dispatch.<locals>.fn\u001b[1;34m(*args, **kwargs)\u001b[0m\n\u001b[0;32m    497\u001b[0m     \u001b[38;5;28;01mreturn\u001b[39;00m if_true(\u001b[38;5;241m*\u001b[39margs, \u001b[38;5;241m*\u001b[39m\u001b[38;5;241m*\u001b[39mkwargs)\n\u001b[0;32m    498\u001b[0m \u001b[38;5;28;01melse\u001b[39;00m:\n\u001b[1;32m--> 499\u001b[0m     \u001b[38;5;28;01mreturn\u001b[39;00m \u001b[43mif_false\u001b[49m\u001b[43m(\u001b[49m\u001b[38;5;241;43m*\u001b[39;49m\u001b[43margs\u001b[49m\u001b[43m,\u001b[49m\u001b[43m \u001b[49m\u001b[38;5;241;43m*\u001b[39;49m\u001b[38;5;241;43m*\u001b[39;49m\u001b[43mkwargs\u001b[49m\u001b[43m)\u001b[49m\n",
      "File \u001b[1;32mc:\\Users\\Nitzan\\miniconda3\\envs\\DL_env\\Lib\\site-packages\\torch\\functional.py:991\u001b[0m, in \u001b[0;36m_return_output\u001b[1;34m(input, sorted, return_inverse, return_counts, dim)\u001b[0m\n\u001b[0;32m    988\u001b[0m \u001b[38;5;28;01mif\u001b[39;00m has_torch_function_unary(\u001b[38;5;28minput\u001b[39m):\n\u001b[0;32m    989\u001b[0m     \u001b[38;5;28;01mreturn\u001b[39;00m _unique_impl(\u001b[38;5;28minput\u001b[39m, \u001b[38;5;28msorted\u001b[39m, return_inverse, return_counts, dim)\n\u001b[1;32m--> 991\u001b[0m output, _, _ \u001b[38;5;241m=\u001b[39m \u001b[43m_unique_impl\u001b[49m\u001b[43m(\u001b[49m\u001b[38;5;28;43minput\u001b[39;49m\u001b[43m,\u001b[49m\u001b[43m \u001b[49m\u001b[38;5;28;43msorted\u001b[39;49m\u001b[43m,\u001b[49m\u001b[43m \u001b[49m\u001b[43mreturn_inverse\u001b[49m\u001b[43m,\u001b[49m\u001b[43m \u001b[49m\u001b[43mreturn_counts\u001b[49m\u001b[43m,\u001b[49m\u001b[43m \u001b[49m\u001b[43mdim\u001b[49m\u001b[43m)\u001b[49m\n\u001b[0;32m    992\u001b[0m \u001b[38;5;28;01mreturn\u001b[39;00m output\n",
      "File \u001b[1;32mc:\\Users\\Nitzan\\miniconda3\\envs\\DL_env\\Lib\\site-packages\\torch\\functional.py:905\u001b[0m, in \u001b[0;36m_unique_impl\u001b[1;34m(input, sorted, return_inverse, return_counts, dim)\u001b[0m\n\u001b[0;32m    897\u001b[0m     output, inverse_indices, counts \u001b[38;5;241m=\u001b[39m _VF\u001b[38;5;241m.\u001b[39munique_dim(\n\u001b[0;32m    898\u001b[0m         \u001b[38;5;28minput\u001b[39m,\n\u001b[0;32m    899\u001b[0m         dim,\n\u001b[1;32m   (...)\u001b[0m\n\u001b[0;32m    902\u001b[0m         return_counts\u001b[38;5;241m=\u001b[39mreturn_counts,\n\u001b[0;32m    903\u001b[0m     )\n\u001b[0;32m    904\u001b[0m \u001b[38;5;28;01melse\u001b[39;00m:\n\u001b[1;32m--> 905\u001b[0m     output, inverse_indices, counts \u001b[38;5;241m=\u001b[39m \u001b[43mtorch\u001b[49m\u001b[38;5;241;43m.\u001b[39;49m\u001b[43m_unique2\u001b[49m\u001b[43m(\u001b[49m\n\u001b[0;32m    906\u001b[0m \u001b[43m        \u001b[49m\u001b[38;5;28;43minput\u001b[39;49m\u001b[43m,\u001b[49m\n\u001b[0;32m    907\u001b[0m \u001b[43m        \u001b[49m\u001b[38;5;28;43msorted\u001b[39;49m\u001b[38;5;241;43m=\u001b[39;49m\u001b[38;5;28;43msorted\u001b[39;49m\u001b[43m,\u001b[49m\n\u001b[0;32m    908\u001b[0m \u001b[43m        \u001b[49m\u001b[43mreturn_inverse\u001b[49m\u001b[38;5;241;43m=\u001b[39;49m\u001b[43mreturn_inverse\u001b[49m\u001b[43m,\u001b[49m\n\u001b[0;32m    909\u001b[0m \u001b[43m        \u001b[49m\u001b[43mreturn_counts\u001b[49m\u001b[38;5;241;43m=\u001b[39;49m\u001b[43mreturn_counts\u001b[49m\u001b[43m,\u001b[49m\n\u001b[0;32m    910\u001b[0m \u001b[43m    \u001b[49m\u001b[43m)\u001b[49m\n\u001b[0;32m    911\u001b[0m \u001b[38;5;28;01mreturn\u001b[39;00m output, inverse_indices, counts\n",
      "\u001b[1;31mKeyboardInterrupt\u001b[0m: "
     ]
    }
   ],
   "source": [
    "# Train the model!\n",
    "\n",
    "model, train_loss, train_score, validation_loss, validation_score, _ = TrainModel(\n",
    "  model, \n",
    "  train_dl, \n",
    "  validation_dl, \n",
    "  optimizer, \n",
    "  NUM_EPOCHS, \n",
    "  loss_fn, \n",
    "  score_fn,\n",
    ")"
   ]
  }
 ],
 "metadata": {
  "kernelspec": {
   "display_name": "deep_fake_detection_env",
   "language": "python",
   "name": "python3"
  },
  "language_info": {
   "codemirror_mode": {
    "name": "ipython",
    "version": 3
   },
   "file_extension": ".py",
   "mimetype": "text/x-python",
   "name": "python",
   "nbconvert_exporter": "python",
   "pygments_lexer": "ipython3",
   "version": "3.11.9"
  }
 },
 "nbformat": 4,
 "nbformat_minor": 2
}
