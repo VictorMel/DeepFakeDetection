{
 "cells": [
  {
   "cell_type": "code",
   "execution_count": 37,
   "metadata": {},
   "outputs": [
    {
     "name": "stdout",
     "output_type": "stream",
     "text": [
      "Using device cuda\n"
     ]
    }
   ],
   "source": [
    "import torch\n",
    "import torch.nn as nn\n",
    "from torch.utils.data import DataLoader\n",
    "import torchvision.transforms.v2 as transforms\n",
    "from torchvision.models.video import r2plus1d_18, R2Plus1D_18_Weights\n",
    "from os import path\n",
    "import torchinfo\n",
    "\n",
    "from train_model import TrainModel\n",
    "from video_tensor_dataset import VideoTensorDataset\n",
    "\n",
    "BATCH_SIZE = 3\n",
    "NUM_EPOCHS = 10\n",
    "DEVICE = torch.device(\"cuda\" if torch.cuda.is_available() else \"cpu\")\n",
    "print(f\"Using device {DEVICE}\")"
   ]
  },
  {
   "cell_type": "code",
   "execution_count": 38,
   "metadata": {},
   "outputs": [],
   "source": [
    "MY_NAME_IS = 'Nitzan'\n",
    "\n",
    "DATA_FOLDER_DICT = {\n",
    "    'Victor': ['E:\\DeepFakeDetection\\dfdc_train_all','E:\\DeepFakeDetection\\smalldata'],\n",
    "    'Nitzan': ['D:\\dfdc','D:\\dfdc_small5'],\n",
    "    'Netanel':['F:\\input','F:\\input']\n",
    "  }\n",
    "\n",
    "BIG_DATA_FOLDER, SMALL_DATA_FOLDER = DATA_FOLDER_DICT[MY_NAME_IS]\n",
    "\n",
    "TRAIN_PARTS = [1, 2, 3, 4, 5, 6, 7, 8, 9]\n",
    "VALIDATION_PARTS = [10, 11, 12]"
   ]
  },
  {
   "cell_type": "code",
   "execution_count": 39,
   "metadata": {},
   "outputs": [],
   "source": [
    "model = r2plus1d_18(weights=R2Plus1D_18_Weights.DEFAULT)"
   ]
  },
  {
   "cell_type": "code",
   "execution_count": 40,
   "metadata": {},
   "outputs": [
    {
     "data": {
      "text/plain": [
       "===============================================================================================\n",
       "Layer (type:depth-idx)                        Output Shape              Param #\n",
       "===============================================================================================\n",
       "VideoResNet                                   [3, 1]                    --\n",
       "├─R2Plus1dStem: 1-1                           [3, 64, 16, 56, 56]       --\n",
       "│    └─Conv3d: 2-1                            [3, 45, 16, 56, 56]       (6,615)\n",
       "│    └─BatchNorm3d: 2-2                       [3, 45, 16, 56, 56]       (90)\n",
       "│    └─ReLU: 2-3                              [3, 45, 16, 56, 56]       --\n",
       "│    └─Conv3d: 2-4                            [3, 64, 16, 56, 56]       (8,640)\n",
       "│    └─BatchNorm3d: 2-5                       [3, 64, 16, 56, 56]       (128)\n",
       "│    └─ReLU: 2-6                              [3, 64, 16, 56, 56]       --\n",
       "├─Sequential: 1-2                             [3, 64, 16, 56, 56]       --\n",
       "│    └─BasicBlock: 2-7                        [3, 64, 16, 56, 56]       --\n",
       "│    │    └─Sequential: 3-1                   [3, 64, 16, 56, 56]       (111,008)\n",
       "│    │    └─Sequential: 3-2                   [3, 64, 16, 56, 56]       (111,008)\n",
       "│    │    └─ReLU: 3-3                         [3, 64, 16, 56, 56]       --\n",
       "│    └─BasicBlock: 2-8                        [3, 64, 16, 56, 56]       --\n",
       "│    │    └─Sequential: 3-4                   [3, 64, 16, 56, 56]       (111,008)\n",
       "│    │    └─Sequential: 3-5                   [3, 64, 16, 56, 56]       (111,008)\n",
       "│    │    └─ReLU: 3-6                         [3, 64, 16, 56, 56]       --\n",
       "├─Sequential: 1-3                             [3, 128, 8, 28, 28]       --\n",
       "│    └─BasicBlock: 2-9                        [3, 128, 8, 28, 28]       --\n",
       "│    │    └─Sequential: 3-7                   [3, 128, 8, 28, 28]       (221,516)\n",
       "│    │    └─Sequential: 3-8                   [3, 128, 8, 28, 28]       (353,996)\n",
       "│    │    └─Sequential: 3-9                   [3, 128, 8, 28, 28]       (8,448)\n",
       "│    │    └─ReLU: 3-10                        [3, 128, 8, 28, 28]       --\n",
       "│    └─BasicBlock: 2-10                       [3, 128, 8, 28, 28]       --\n",
       "│    │    └─Sequential: 3-11                  [3, 128, 8, 28, 28]       (443,200)\n",
       "│    │    └─Sequential: 3-12                  [3, 128, 8, 28, 28]       (443,200)\n",
       "│    │    └─ReLU: 3-13                        [3, 128, 8, 28, 28]       --\n",
       "├─Sequential: 1-4                             [3, 256, 4, 14, 14]       --\n",
       "│    └─BasicBlock: 2-11                       [3, 256, 4, 14, 14]       --\n",
       "│    │    └─Sequential: 3-14                  [3, 256, 4, 14, 14]       (884,632)\n",
       "│    │    └─Sequential: 3-15                  [3, 256, 4, 14, 14]       (1,414,552)\n",
       "│    │    └─Sequential: 3-16                  [3, 256, 4, 14, 14]       (33,280)\n",
       "│    │    └─ReLU: 3-17                        [3, 256, 4, 14, 14]       --\n",
       "│    └─BasicBlock: 2-12                       [3, 256, 4, 14, 14]       --\n",
       "│    │    └─Sequential: 3-18                  [3, 256, 4, 14, 14]       (1,771,136)\n",
       "│    │    └─Sequential: 3-19                  [3, 256, 4, 14, 14]       (1,771,136)\n",
       "│    │    └─ReLU: 3-20                        [3, 256, 4, 14, 14]       --\n",
       "├─Sequential: 1-5                             [3, 512, 2, 7, 7]         --\n",
       "│    └─BasicBlock: 2-13                       [3, 512, 2, 7, 7]         --\n",
       "│    │    └─Sequential: 3-21                  [3, 512, 2, 7, 7]         3,539,506\n",
       "│    │    └─Sequential: 3-22                  [3, 512, 2, 7, 7]         5,661,490\n",
       "│    │    └─Sequential: 3-23                  [3, 512, 2, 7, 7]         132,096\n",
       "│    │    └─ReLU: 3-24                        [3, 512, 2, 7, 7]         --\n",
       "│    └─BasicBlock: 2-14                       [3, 512, 2, 7, 7]         --\n",
       "│    │    └─Sequential: 3-25                  [3, 512, 2, 7, 7]         7,081,216\n",
       "│    │    └─Sequential: 3-26                  [3, 512, 2, 7, 7]         7,081,216\n",
       "│    │    └─ReLU: 3-27                        [3, 512, 2, 7, 7]         --\n",
       "├─AdaptiveAvgPool3d: 1-6                      [3, 512, 1, 1, 1]         --\n",
       "├─Sequential: 1-7                             [3, 1]                    --\n",
       "│    └─Linear: 2-15                           [3, 128]                  65,664\n",
       "│    └─ReLU: 2-16                             [3, 128]                  --\n",
       "│    └─Linear: 2-17                           [3, 32]                   4,128\n",
       "│    └─ReLU: 2-18                             [3, 32]                   --\n",
       "│    └─Linear: 2-19                           [3, 1]                    33\n",
       "===============================================================================================\n",
       "Total params: 31,369,950\n",
       "Trainable params: 23,565,349\n",
       "Non-trainable params: 7,804,601\n",
       "Total mult-adds (Units.GIGABYTES): 121.56\n",
       "===============================================================================================\n",
       "Input size (MB): 7.23\n",
       "Forward/backward pass size (MB): 3019.50\n",
       "Params size (MB): 125.48\n",
       "Estimated Total Size (MB): 3152.20\n",
       "==============================================================================================="
      ]
     },
     "execution_count": 40,
     "metadata": {},
     "output_type": "execute_result"
    }
   ],
   "source": [
    "# Replace head\n",
    "\n",
    "model.fc = nn.Sequential(\n",
    "    nn.Linear(model.fc.in_features, 128, device=DEVICE),\n",
    "    nn.ReLU(),\n",
    "    nn.Linear(128, 32, device=DEVICE),\n",
    "    nn.ReLU(),\n",
    "    nn.Linear(32, 1, device=DEVICE),\n",
    ")\n",
    "\n",
    "# Freeze all layers except the new head\n",
    "for key, params in model.named_parameters():\n",
    "    if not (key.startswith('fc') or key.startswith('layer4')):\n",
    "        params.requires_grad = False\n",
    "    # print(key, params.requires_grad)\n",
    "\n",
    "model.to(device=DEVICE)\n",
    "torchinfo.summary(model, input_size=(BATCH_SIZE, 3, 16, 112, 112))\n",
    "\n"
   ]
  },
  {
   "cell_type": "code",
   "execution_count": 41,
   "metadata": {},
   "outputs": [
    {
     "name": "stdout",
     "output_type": "stream",
     "text": [
      "Number of learnable parameters: 23565349\n"
     ]
    }
   ],
   "source": [
    "# Print number of learnable parameters\n",
    "num_learnable_params = sum(p.numel() for p in model.parameters() if p.requires_grad)\n",
    "\n",
    "print(f\"Number of learnable parameters: {num_learnable_params}\")"
   ]
  },
  {
   "cell_type": "code",
   "execution_count": 42,
   "metadata": {},
   "outputs": [],
   "source": [
    "# Taken from https://github.com/pytorch/vision/tree/main/references/video_classification\n",
    "mean = torch.tensor([0.43216, 0.394666, 0.37645], device=DEVICE)[None, None, None, :]\n",
    "std = torch.tensor([0.22803, 0.22145, 0.216989], device=DEVICE)[None, None, None, :]\n",
    "\n",
    "# Initialize train and validation datasets\n",
    "# TODO videodataset root paths and transforms - this depends on Victor's offline preprocessing \n",
    "train_roots = [path.join(SMALL_DATA_FOLDER, str(i)) for i in TRAIN_PARTS]\n",
    "train_transform = transforms.Compose([\n",
    "    transforms.ToImage(),\n",
    "    transforms.ToDtype(torch.float32),\n",
    "    transforms.Lambda(lambda video: torch.narrow(video, 0, 0, 95)),\n",
    "    transforms.Lambda(lambda video: (video - mean) / std),\n",
    "    # video is in shape (T, H, W, C), we need to permute it to (C, T, H, W)\n",
    "    transforms.Lambda(lambda video: video.permute(3, 0, 1, 2)),\n",
    "])\n",
    "\n",
    "train_ds = VideoTensorDataset(\n",
    "  original_data_path=BIG_DATA_FOLDER,\n",
    "  device=DEVICE, \n",
    "  tensor_data_paths=train_roots, \n",
    "  transform=train_transform\n",
    ")\n",
    "\n",
    "validation_roots = [path.join(SMALL_DATA_FOLDER, str(i)) for i in VALIDATION_PARTS]\n",
    "validation_transform = train_transform\n",
    "\n",
    "validation_ds = VideoTensorDataset(\n",
    "  original_data_path=BIG_DATA_FOLDER, \n",
    "  device=DEVICE,\n",
    "  tensor_data_paths=validation_roots, \n",
    "  transform=validation_transform\n",
    ")\n",
    "\n",
    "# Initialize dataloaders\n",
    "\n",
    "train_dl = DataLoader(train_ds, batch_size=BATCH_SIZE, shuffle=True)\n",
    "validation_dl = DataLoader(validation_ds, batch_size=BATCH_SIZE, shuffle=False)"
   ]
  },
  {
   "cell_type": "code",
   "execution_count": 43,
   "metadata": {},
   "outputs": [
    {
     "name": "stdout",
     "output_type": "stream",
     "text": [
      "torch.Size([3, 3, 95, 112, 112]) torch.Size([3])\n"
     ]
    }
   ],
   "source": [
    "batch, labels = next(iter(train_dl))\n",
    "print(batch.shape, labels.shape)"
   ]
  },
  {
   "cell_type": "code",
   "execution_count": 44,
   "metadata": {},
   "outputs": [],
   "source": [
    "from torchvision.ops import sigmoid_focal_loss\n",
    "from torchmetrics.classification import BinaryMatthewsCorrCoef\n",
    "\n",
    "# optimizer = torch.optim.SGD(model.parameters(), lr=1e-5)\n",
    "\n",
    "optimizer = torch.optim.SGD([\n",
    "    { 'params': model.fc.parameters(), 'lr': 8e-4 },\n",
    "    { 'params': model.layer4.parameters(), 'lr': 1e-4 },\n",
    "], lr=3e-4)\n",
    "\n",
    "epoch_size = len(train_dl) // BATCH_SIZE\n",
    "scheduler = torch.optim.lr_scheduler.CyclicLR(optimizer, mode='triangular2', base_lr=3e-4, max_lr=8e-3, step_size_up=2*epoch_size)\n",
    "\n",
    "bce = nn.BCEWithLogitsLoss(reduction='mean', pos_weight=torch.tensor([0.2], device=DEVICE))\n",
    "def loss_fn(y_pred, y_true):\n",
    "    # return sigmoid_focal_loss(y_pred, torch.unsqueeze(y_true, 1), gamma=2, alpha=0.161, reduction='mean')\n",
    "    return bce(y_pred, torch.unsqueeze(y_true, 1))\n",
    "\n",
    "\n",
    "bmcc = BinaryMatthewsCorrCoef().to(device=DEVICE)\n",
    "def score_fn(y_pred, y_true): \n",
    "    return bmcc(y_pred, torch.unsqueeze(y_true, 1))"
   ]
  },
  {
   "cell_type": "code",
   "execution_count": 45,
   "metadata": {},
   "outputs": [
    {
     "name": "stdout",
     "output_type": "stream",
     "text": [
      "Epoch    1 / 10 | Train Loss:  0.152 | Val Loss:  0.373 | Train Score: -0.088 | Val Score:  0.464 | Epoch Time: 620.15 | <-- Checkpoint! |\n",
      "Epoch    2 / 10 | Train Loss:  0.143 | Val Loss:  0.416 | Train Score:  0.886 | Val Score:  0.464 | Epoch Time: 843.25 |\n",
      "Val - Iteration: 273 / 318, loss: 0.05728759"
     ]
    }
   ],
   "source": [
    "# Train the model!\n",
    "\n",
    "model, train_loss, train_score, validation_loss, validation_score, _ = TrainModel(\n",
    "  model, \n",
    "  train_dl, \n",
    "  validation_dl, \n",
    "  optimizer, \n",
    "  NUM_EPOCHS, \n",
    "  loss_fn, \n",
    "  score_fn,\n",
    ")"
   ]
  }
 ],
 "metadata": {
  "kernelspec": {
   "display_name": "deep_fake_detection_env",
   "language": "python",
   "name": "python3"
  },
  "language_info": {
   "codemirror_mode": {
    "name": "ipython",
    "version": 3
   },
   "file_extension": ".py",
   "mimetype": "text/x-python",
   "name": "python",
   "nbconvert_exporter": "python",
   "pygments_lexer": "ipython3",
   "version": "3.11.9"
  }
 },
 "nbformat": 4,
 "nbformat_minor": 2
}
