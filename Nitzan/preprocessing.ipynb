{
 "cells": [
  {
   "cell_type": "markdown",
   "metadata": {},
   "source": [
    "# Video preprocessing\n",
    "In their original format, the videos are \"too heavy\" to train on; we should preprocess as follows:\n",
    "- Resizing/Cropping: what's a standard frame size to train on? should we crop or resize? \n",
    "- Splitting videos into multiple shorter videos: what should be the window length? does it have to be constant?"
   ]
  },
  {
   "cell_type": "code",
   "execution_count": null,
   "metadata": {},
   "outputs": [],
   "source": []
  }
 ],
 "metadata": {
  "language_info": {
   "name": "python"
  }
 },
 "nbformat": 4,
 "nbformat_minor": 2
}
