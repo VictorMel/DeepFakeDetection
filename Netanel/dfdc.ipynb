{
 "cells": [
  {
   "cell_type": "markdown",
   "metadata": {},
   "source": [
    "# DeepFake Video Detection\n",
    "\n",
    "# <a id='0'>Content</a>\n",
    "\n",
    "- <a href='#1'>Introduction</a>  \n",
    "- <a href='#2'>Preliminary data exploration</a>  \n",
    "    * Load the packages  \n",
    "    * Load the data  \n",
    "    * Check files type  \n",
    "- <a href='#3'>Meta data exploration</a>  \n",
    "     * Missing data   \n",
    "     * Unique values  \n",
    "     * Most frequent originals  \n",
    "- <a href='#4'>Video data exploration</a>  \n",
    "     * Missing video (or meta) data  \n",
    "     * Few fake videos  \n",
    "     * Few real videos  \n",
    "     * Videos with same original  \n",
    "     * Test video files  \n",
    "     * Play video files\n",
    "- <a href='#5'>Face detection</a>  \n",
    "- <a href='#6'>Resources</a> \n",
    "- <a href='#7'>References</a>     \n"
   ]
  },
  {
   "cell_type": "markdown",
   "metadata": {},
   "source": [
    "# Introduction\n",
    "\n",
    "**DeepFake**, derived from \"Deep Learning\" and \"Fake,\" refers to the technology of taking one person's likeness from an image or video  \n",
    "and replacing it with another's using Deep Artificial Neural Networks. Major companies invest heavily in combating DeepFakes to counter  \n",
    "this threat. DeepFake is rapidly invading the film industry and threatens to compromise news agencies. Large digital companies, including  \n",
    "content providers and social platforms, are at the forefront of fighting DeepFakes. GANs (Generative Adversarial Networks) that generate  \n",
    "DeepFakes are improving daily. \n",
    "\n",
    "In the **Data Exploration** section, we perform a partial Exploratory Data Analysis (EDA) on the training and testing data. After checking  \n",
    "the file types, we focus first on the **metadata** files, exploring them in detail after importing them into dataframes. We then explore  \n",
    "video files by examining a sample of fake videos followed by real videos. Additionally, we analyze a few videos with the same origin, visualizing  \n",
    "one frame from both real and fake videos and playing a few videos. \n",
    "\n",
    "Next, we perform face (and other objects from the persons in the videos) extraction using OpenCV Haar Cascade resources to identify frontal faces,  \n",
    "eyes, smiles, and profile faces from still images in the videos.\n",
    "\n",
    "**Important Note**: The data analyzed here is just a small sample. The competition specifies that the training data is provided in archived chunks.  \n",
    "Models should be trained offline using the archived data provided by Kaggle. Models should then be loaded (max 1GB memory) into a Kernel for  \n",
    "inference, and predictions should be prepared as an output file from the Kernel.  \n",
    "\n",
    "In the **Resources** section, There is a short list of various resources for GAN and DeepFake, including blog  \n",
    "posts, Kaggle Kernels, and GitHub repositories."
   ]
  },
  {
   "cell_type": "markdown",
   "metadata": {},
   "source": [
    "# <a id='2'>Preliminary data exploration</a>"
   ]
  },
  {
   "cell_type": "markdown",
   "metadata": {},
   "source": [
    "### Datasets:\n",
    "There are 4 groups of datasets associated with this competition.\n",
    "\n",
    "1. **Training Set: This dataset containing labels for the target.**  \n",
    "2. **Public Validation Set:** We trained our data using a small set of 400 videos/ids contained within this Public Validation Set.  \n",
    "This is available on the Kaggle Data page as test_videos.zip  \n",
    "3. **Public Test Set:**   \n",
    "Our code is running this on Public Test Set. When the re-run is complete, the score will be displayed.  \n",
    "4. **Private Test Set:**\n",
    "This dataset is privately held outside of Kaggle’s platform, and is used to compute the private leaderboard. It contains videos  \n",
    "with a similar format/nature as the Training & Public Validation/Test Sets, but are real, organic videos with and without deepfakes.  \n",
    "\n",
    "### Workflow:\n",
    "add more about the workflow"
   ]
  },
  {
   "cell_type": "markdown",
   "metadata": {},
   "source": [
    "### **Evaluation**\n",
    "$LogLoss = -\\frac{1}{n} \\sum_{1=1}^{n} \\left[ y_{i} \\log \\left( \\hat{y}_{i} \\right) + \\left(1 - y_{i}\\right) \\log \\left(1 - \\hat{y}_{i} \\right) \\right] \\ $\n",
    "\n",
    "where\n",
    "\n",
    "* $n$ is the number of videos being predicted\n",
    "* $\\hat{y}_{i}$ is the predicted probability of the video being FAKE\n",
    "* $y_{i}$ is 1 if the video is FAKE, 0 if REAL\n",
    "* $\\log( )$ is the natural (base e) logarithm = $\\ln(  )$\n",
    "\n",
    "A smaller log loss is better. The use of the logarithm provides extreme punishments for being both confident and wrong.  \n",
    "In the worst possible case, a prediction that something is true when it is actually false will add infinite to your error score.  \n",
    "In order to prevent this, predictions are bounded away from the extremes by a small value."
   ]
  },
  {
   "cell_type": "markdown",
   "metadata": {},
   "source": [
    "## Load packages"
   ]
  },
  {
   "cell_type": "code",
   "execution_count": 69,
   "metadata": {},
   "outputs": [],
   "source": [
    "import numpy as np\n",
    "import pandas as pd \n",
    "import os\n",
    "import sys\n",
    "import matplotlib \n",
    "import seaborn as sns \n",
    "import matplotlib.pyplot as plt \n",
    "from typing import Optional\n",
    "import torch\n",
    "from torch.utils.data import DataLoader\n",
    "from tqdm import tqdm_notebook \n",
    "import cv2 as cv \n",
    "import platform\n",
    "import subprocess\n",
    "import pyopencl as cl \n",
    "import tensorflow as tf\n",
    "import getpass\n",
    "import json\n",
    "from rocm.configure import * \n",
    "from utils.video_dataset import *\n",
    "\n",
    "from IPython.display import HTML\n",
    "from base64 import b64encode"
   ]
  },
  {
   "cell_type": "code",
   "execution_count": 3,
   "metadata": {},
   "outputs": [
    {
     "name": "stdout",
     "output_type": "stream",
     "text": [
      "TensorFlow version: 2.10.1\n",
      "3.9.19 | packaged by conda-forge | (main, Mar 20 2024, 12:38:46) [MSC v.1929 64 bit (AMD64)]\n",
      "Kernel mode driver status: \n"
     ]
    }
   ],
   "source": [
    "print(\"TensorFlow version:\", tf.__version__)\n",
    "print(sys.version)\n",
    "print(f'Kernel mode driver status: {subprocess.run(\"dkms status\", shell=True, capture_output=True, text=True).stdout}' )"
   ]
  },
  {
   "cell_type": "markdown",
   "metadata": {},
   "source": [
    "### Constants"
   ]
  },
  {
   "cell_type": "code",
   "execution_count": 4,
   "metadata": {},
   "outputs": [],
   "source": [
    "# DATASET\n",
    "DATA_CONFIG = './configs/data_path.json'\n",
    "\n",
    "with open(DATA_CONFIG, 'r') as f:\n",
    "    data = json.load(f)\n",
    "\n",
    "DATA_FOLDER = data['data path'][getpass.getuser()][0]\n",
    "COMPRESSED_DATA_FOLDER = data['data path'][getpass.getuser()][1]\n",
    "BATCH_SIZE = data['batch size']\n",
    "DATA_DIRECTORIES = os.listdir(DATA_FOLDER)\n",
    "\n",
    "\n",
    "DATA_SAMPLE_FOLDER = '../input/deepfake-detection'\n",
    "TRAIN_SAMPLE_FOLDER = 'train_sample_videos'\n",
    "TEST_FOLDER = 'test_videos'\n",
    "\n",
    "# LIBS\n",
    "FACE_DETECTION_FOLDER = '../input/haar-cascades-for-face-detection'"
   ]
  },
  {
   "cell_type": "markdown",
   "metadata": {},
   "source": [
    "### Utility Functions"
   ]
  },
  {
   "cell_type": "code",
   "execution_count": 68,
   "metadata": {},
   "outputs": [],
   "source": [
    "# UTILITY FUNCTIONS\n",
    "\n",
    "# Function to display video\n",
    "def play_video(video_file, subset=TRAIN_SAMPLE_FOLDER):\n",
    "    '''\n",
    "    Display video\n",
    "    param: video_file - the name of the video file to display\n",
    "    param: subset - the folder where the video file is located (can be TRAIN_SAMPLE_FOLDER or TEST_Folder)\n",
    "    '''\n",
    "    video_url = open(os.path.join(DATA_SAMPLE_FOLDER, subset,video_file),'rb').read()\n",
    "    data_url = f\"data:video/mp4;base64,{b64encode(video_url).decode()}\"\n",
    "    return HTML(f\"\"\"<video width=500 controls><source src=\"{data_url}\" type=\"video/mp4\"></video>\"\"\")\n",
    "\n",
    "# Function to display image from a video\n",
    "def display_image_from_video(video_path):\n",
    "    '''\n",
    "    input: video_path - path for video\n",
    "    process:\n",
    "    1. perform a video capture from the video\n",
    "    2. read the image\n",
    "    3. display the image\n",
    "    '''\n",
    "    capture_image = cv.VideoCapture(video_path) \n",
    "    ret, frame = capture_image.read()\n",
    "    fig = plt.figure(figsize=(10,10))\n",
    "    ax = fig.add_subplot(111)\n",
    "    frame = cv.cvtColor(frame, cv.COLOR_BGR2RGB)\n",
    "    ax.imshow(frame)\n",
    "# Function to get the OpenCL platform information\n",
    "def get_platform_info():\n",
    "    platforms = cl.get_platforms()\n",
    "    for platform in platforms:\n",
    "        devices = platform.get_devices()\n",
    "        print(f\"Platform Name: {platform.get_info(cl.platform_info.NAME)}\")\n",
    "        print(f\"Platform Vendor: {platform.get_info(cl.platform_info.VENDOR)}\")\n",
    "        print(f\"Platform Version: {platform.get_info(cl.platform_info.VERSION)}\")\n",
    "        print(f\"Platform Profile: {platform.get_info(cl.platform_info.PROFILE)}\")\n",
    "        for device in devices:\n",
    "            print(f\"Device: {device.name}\")\n",
    "\n",
    "    amd_platform = next(\n",
    "        (platform for platform in platforms if 'AMD' in platform.name), None\n",
    "    )\n",
    "\n",
    "# Function to check unique values in a dataset\n",
    "def unique_values(data):\n",
    "    total = data.count()\n",
    "    tt = pd.DataFrame(total)\n",
    "    tt.columns = ['Total']\n",
    "    uniques = []\n",
    "    for col in data.columns:\n",
    "        unique = data[col].nunique()\n",
    "        uniques.append(unique)\n",
    "    tt['Uniques'] = uniques\n",
    "    return(np.transpose(tt))\n",
    "\n",
    "# Function to check missing data in a dataset\n",
    "def missing_data(data):\n",
    "    total = data.isnull().sum()\n",
    "    percent = (data.isnull().sum()/data.isnull().count()*100)\n",
    "    tt = pd.concat([total, percent], axis=1, keys=['Total', 'Percent'])\n",
    "    types = []\n",
    "    for col in data.columns:\n",
    "        dtype = str(data[col].dtype)\n",
    "        types.append(dtype)\n",
    "    tt['Types'] = types\n",
    "    return(np.transpose(tt))\n",
    "\n",
    "# Function to check the most frequent values in a dataset\n",
    "def most_frequent_values(data):\n",
    "    total = data.count()\n",
    "    tt = pd.DataFrame(total)\n",
    "    tt.columns = ['Total']\n",
    "    items = []\n",
    "    vals = []\n",
    "    for col in data.columns:\n",
    "        itm = data[col].value_counts().index[0]\n",
    "        val = data[col].value_counts().values[0]\n",
    "        items.append(itm)\n",
    "        vals.append(val)\n",
    "    tt['Most frequent item'] = items\n",
    "    tt['Frequency'] = vals\n",
    "    tt['Percent from total'] = np.round(vals / total * 100, 3)\n",
    "    return(np.transpose(tt))\n",
    "\n",
    "# Function to plot the count of classes in a dataset\n",
    "def plot_count(feature, title, df, size=1):\n",
    "    '''\n",
    "    Plot count of classes / feature\n",
    "    param: feature - the feature to analyze\n",
    "    param: title - title to add to the graph\n",
    "    param: df - dataframe from which we plot feature's classes distribution \n",
    "    param: size - default 1.\n",
    "    '''\n",
    "    f, ax = plt.subplots(1,1, figsize=(4*size,4))\n",
    "    total = float(len(df))\n",
    "    g = sns.countplot(x=feature, data=df, order=df[feature].value_counts().index[:20], palette='Set3', hue=feature, legend=False)\n",
    "    g.set_title(f\"Histogram of {title}\")\n",
    "    if(size > 2):\n",
    "        plt.xticks(rotation=90, size=8)\n",
    "    for p in ax.patches:\n",
    "        height = p.get_height()\n",
    "        ax.text(p.get_x()+p.get_width()/2.,\n",
    "                height + 3,\n",
    "                '{:1.2f}%'.format(100*height/total),\n",
    "                ha=\"center\")\n",
    "    plt.show()\n",
    "\n",
    "# Function read video metadata from json files\n",
    "def read_meta_from_json(data_directories, data_folder, compressed_data_folder):\n",
    "    \n",
    "    meta_df = pd.DataFrame()\n",
    "\n",
    "    for index, part_folder in enumerate(data_directories):\n",
    "        part_path = os.path.join(data_folder, part_folder)\n",
    "        json_file = next(file for file in os.listdir(part_path) if file.endswith('json'))\n",
    "        json_file_path = os.path.join(part_path, json_file)\n",
    "        \n",
    "        part_df = pd.read_json(json_file_path).T\n",
    "        part_df['part'] = index\n",
    "        part_df['path'] = part_path\n",
    "        part_df['path-compressed'] =  os.path.join(compressed_data_folder, os.path.basename(part_path))\n",
    "        part_df['filename'] = part_df.index\n",
    "        \n",
    "        meta_df = pd.concat([meta_df, part_df])\n",
    "\n",
    "    # Display 5 random rows from meta_df\n",
    "    display(meta_df.sample(n=5))\n",
    "    return meta_df\n",
    "\n",
    "# Function to display image from a video\n",
    "def display_image_from_video_list(video_path_list, video_folder=TRAIN_SAMPLE_FOLDER):\n",
    "    '''\n",
    "    input: video_path_list - path for video\n",
    "    process:\n",
    "    0. for each video in the video path list\n",
    "        1. perform a video capture from the video\n",
    "        2. read the image\n",
    "        3. display the image\n",
    "    '''\n",
    "    plt.figure()\n",
    "    fig, ax = plt.subplots(2,3,figsize=(16,8))\n",
    "    # we only show images extracted from the first 6 videos\n",
    "    for i, video_file in enumerate(video_path_list[:6]):\n",
    "        video_path = os.path.join(DATA_SAMPLE_FOLDER, video_folder,video_file)\n",
    "        capture_image = cv.VideoCapture(video_path) \n",
    "        ret, frame = capture_image.read()\n",
    "        frame = cv.cvtColor(frame, cv.COLOR_BGR2RGB)\n",
    "        ax[i//3, i%3].imshow(frame)\n",
    "        ax[i//3, i%3].set_title(f\"Video: {video_file}\")\n",
    "        ax[i//3, i%3].axis('on')\n",
    "        \n",
    "# Function from moviepy.editor import AudioFileClip\n",
    "def LoadVideo(filepath, down_fps, scale_fact, isGray):\n",
    "    video = []\n",
    "    \n",
    "    # Open the video file\n",
    "    cap = cv.VideoCapture(filepath)\n",
    "    \n",
    "    # Get video properties\n",
    "    fps = cap.get(cv.CAP_PROP_FPS)  # Frames per second\n",
    "    fcnt = int(cap.get(cv.CAP_PROP_FRAME_COUNT))  # Total number of frames\n",
    "    fps_factor = round(fps / down_fps)  # Factor to downsample frames\n",
    "    \n",
    "    # Loop through each frame\n",
    "    for ii_f in range(fcnt):\n",
    "        if cap.isOpened() == False:\n",
    "            break\n",
    "        \n",
    "        # Read the next frame\n",
    "        ret, frame = cap.read()\n",
    "        \n",
    "        if (ii_f % fps_factor) != 0:  # Downsample frames\n",
    "            continue\n",
    "        \n",
    "        # Check if frame is read correctly\n",
    "        if not ret:\n",
    "            break\n",
    "        \n",
    "        # Get frame dimensions and rotate if necessary\n",
    "        height, width, channels = frame.shape\n",
    "        if height > width:\n",
    "            frame = cv.rotate(frame, cv.ROTATE_90_CLOCKWISE)\n",
    "            height, width, channels = frame.shape\n",
    "        \n",
    "        # Calculate downscaled dimensions\n",
    "        down_width = round(width * scale_fact)\n",
    "        down_height = round(height * scale_fact)\n",
    "        down_points = (down_width, down_height)\n",
    "        \n",
    "        # Resize and convert frame to grayscale if specified\n",
    "        if isGray:\n",
    "            frame_sample = cv.resize(cv.cvtColor(frame, cv.COLOR_BGR2GRAY), down_points, interpolation=cv.INTER_LINEAR)\n",
    "        else:\n",
    "            frame_sample = cv.resize(cv.cvtColor(frame, cv.COLOR_BGR2RGB), down_points, interpolation=cv.INTER_LINEAR)\n",
    "        \n",
    "        # Append resized frame to video list\n",
    "        video.append(frame_sample)\n",
    "\n",
    "    # Release the video capture object and close all windows\n",
    "    cap.release()\n",
    "    cv.destroyAllWindows()\n",
    "    \n",
    "    # Convert video list to numpy array and then to torch tensor\n",
    "    video = np.array(video)\n",
    "    video = torch.tensor(video)\n",
    "    \n",
    "    return video"
   ]
  },
  {
   "cell_type": "markdown",
   "metadata": {},
   "source": [
    "### Add configurations for AMD GPU - Ubuntu only\n",
    "1. ADD rocm binary paths to the PATH environment variable.\n",
    "2. ADD open CL to LD_LIBRARY_PATH\n",
    "3. ADD user to \"render\" and \"video\" groups\n",
    "4. INSTALL clinfo\n",
    "5. INSTALL ocl-icd\n",
    "6. USE rocm-smi to check GPU's performance"
   ]
  },
  {
   "cell_type": "code",
   "execution_count": 6,
   "metadata": {},
   "outputs": [],
   "source": [
    "if platform.system() == 'Linux' and 'Ubuntu' in platform.version():\n",
    "    add_rocm_to_path()\n",
    "    add_ld_library_path()\n",
    "    check_user_in_groups()\n",
    "    install_clinfo()\n",
    "    install_ocl_icd()\n",
    "    rocm_smi()\n",
    "    clinfo()\n",
    "    rocminfo()"
   ]
  },
  {
   "cell_type": "markdown",
   "metadata": {},
   "source": [
    "### Find physical devices (CPU and GPU)\n",
    "\n",
    "check that the cpu and gpu are recognized by tensorflow"
   ]
  },
  {
   "cell_type": "code",
   "execution_count": 7,
   "metadata": {},
   "outputs": [
    {
     "name": "stdout",
     "output_type": "stream",
     "text": [
      "Num GPUs Available:  1\n",
      "Num CPUs Available:  1\n"
     ]
    }
   ],
   "source": [
    "print(\"Num GPUs Available: \", len(tf.config.list_physical_devices('GPU')))\n",
    "print(\"Num CPUs Available: \", len(tf.config.list_physical_devices('CPU')))"
   ]
  },
  {
   "cell_type": "markdown",
   "metadata": {},
   "source": [
    "### Limit GPU resource to enable resources for casual work\n",
    "\n",
    "TensorFlow allocates all of the GPU’s memory by default, leaving nothing for the desktop environment and any  \n",
    "other apps to use. In order to solve this issue, we save some resources aside for casual workload and maintenance resources."
   ]
  },
  {
   "cell_type": "code",
   "execution_count": 8,
   "metadata": {},
   "outputs": [
    {
     "name": "stdout",
     "output_type": "stream",
     "text": [
      "Platform Name: AMD Accelerated Parallel Processing\n",
      "Platform Vendor: Advanced Micro Devices, Inc.\n",
      "Platform Version: OpenCL 2.1 AMD-APP (3592.0)\n",
      "Platform Profile: FULL_PROFILE\n",
      "Device: gfx1100\n"
     ]
    }
   ],
   "source": [
    "if gpus := tf.config.experimental.list_physical_devices('GPU'):\n",
    "  try:\n",
    "    get_platform_info()\n",
    "    for gpu in gpus:\n",
    "      tf.config.experimental.set_memory_growth(gpu, True)\n",
    "  except RuntimeError as e:\n",
    "    print(e)\n"
   ]
  },
  {
   "cell_type": "markdown",
   "metadata": {},
   "source": [
    "## Load data"
   ]
  },
  {
   "cell_type": "code",
   "execution_count": 9,
   "metadata": {},
   "outputs": [
    {
     "name": "stdout",
     "output_type": "stream",
     "text": [
      "Train samples: 401\n",
      "Test samples: 400\n"
     ]
    }
   ],
   "source": [
    "print(f\"Train samples: {len(os.listdir(os.path.join(DATA_SAMPLE_FOLDER, TRAIN_SAMPLE_FOLDER)))}\")\n",
    "print(f\"Test samples: {len(os.listdir(os.path.join(DATA_SAMPLE_FOLDER, TEST_FOLDER)))}\")"
   ]
  },
  {
   "cell_type": "markdown",
   "metadata": {},
   "source": [
    "We also added a face detection resource."
   ]
  },
  {
   "cell_type": "code",
   "execution_count": 10,
   "metadata": {},
   "outputs": [
    {
     "name": "stdout",
     "output_type": "stream",
     "text": [
      "Face detection resources: ['haarcascade_eye.xml', 'haarcascade_eye_tree_eyeglasses.xml', 'haarcascade_frontalface_alt.xml', 'haarcascade_frontalface_alt2.xml', 'haarcascade_frontalface_alt_tree.xml', 'haarcascade_frontalface_default.xml', 'haarcascade_fullbody.xml', 'haarcascade_profileface.xml', 'haarcascade_smile.xml', 'haarcascade_upperbody.xml']\n"
     ]
    }
   ],
   "source": [
    "print(f\"Face detection resources: {os.listdir(FACE_DETECTION_FOLDER)}\")"
   ]
  },
  {
   "cell_type": "markdown",
   "metadata": {},
   "source": [
    "## Check files type\n",
    "\n",
    "Here we check the train data files extensions. Most of the files looks to have `mp4` extension, let's check if there is other extension as well."
   ]
  },
  {
   "cell_type": "code",
   "execution_count": 11,
   "metadata": {},
   "outputs": [
    {
     "name": "stdout",
     "output_type": "stream",
     "text": [
      "Extensions: ['mp4', 'json']\n"
     ]
    }
   ],
   "source": [
    "train_list = list(os.listdir(os.path.join(DATA_SAMPLE_FOLDER, TRAIN_SAMPLE_FOLDER)))\n",
    "ext_dict = []\n",
    "for file in train_list:\n",
    "    file_ext = file.split('.')[1]\n",
    "    if (file_ext not in ext_dict):\n",
    "        ext_dict.append(file_ext)\n",
    "print(f\"Extensions: {ext_dict}\")  "
   ]
  },
  {
   "cell_type": "markdown",
   "metadata": {},
   "source": [
    "Let's count how many files with each extensions there are.\n",
    "\n",
    "---"
   ]
  },
  {
   "cell_type": "code",
   "execution_count": 12,
   "metadata": {},
   "outputs": [
    {
     "name": "stdout",
     "output_type": "stream",
     "text": [
      "Files with extension `mp4`: 400\n",
      "Files with extension `json`: 1\n"
     ]
    }
   ],
   "source": [
    "for file_ext in ext_dict:\n",
    "    print(f\"Files with extension `{file_ext}`: {len([file for file in train_list if  file.endswith(file_ext)])}\")"
   ]
  },
  {
   "cell_type": "markdown",
   "metadata": {},
   "source": [
    "Let's repeat the same process for test videos folder."
   ]
  },
  {
   "cell_type": "code",
   "execution_count": 13,
   "metadata": {},
   "outputs": [
    {
     "name": "stdout",
     "output_type": "stream",
     "text": [
      "Extensions: ['mp4']\n",
      "Files with extension `mp4`: 400\n"
     ]
    }
   ],
   "source": [
    "test_list = list(os.listdir(os.path.join(DATA_SAMPLE_FOLDER, TEST_FOLDER)))\n",
    "ext_dict = []\n",
    "for file in test_list:\n",
    "    file_ext = file.split('.')[1]\n",
    "    if (file_ext not in ext_dict):\n",
    "        ext_dict.append(file_ext)\n",
    "print(f\"Extensions: {ext_dict}\")\n",
    "for file_ext in ext_dict:\n",
    "    print(f\"Files with extension `{file_ext}`: {len([file for file in train_list if  file.endswith(file_ext)])}\")"
   ]
  },
  {
   "cell_type": "markdown",
   "metadata": {},
   "source": [
    "Let's check the `json` file first."
   ]
  },
  {
   "cell_type": "code",
   "execution_count": 14,
   "metadata": {},
   "outputs": [
    {
     "name": "stdout",
     "output_type": "stream",
     "text": [
      "JSON file: metadata.json\n"
     ]
    }
   ],
   "source": [
    "json_file = [file for file in train_list if  file.endswith('json')][0]\n",
    "print(f\"JSON file: {json_file}\")"
   ]
  },
  {
   "cell_type": "markdown",
   "metadata": {},
   "source": [
    "Apparently here is a metadata file. Let's explore this JSON file."
   ]
  },
  {
   "cell_type": "code",
   "execution_count": 15,
   "metadata": {},
   "outputs": [
    {
     "data": {
      "text/html": [
       "<div>\n",
       "<style scoped>\n",
       "    .dataframe tbody tr th:only-of-type {\n",
       "        vertical-align: middle;\n",
       "    }\n",
       "\n",
       "    .dataframe tbody tr th {\n",
       "        vertical-align: top;\n",
       "    }\n",
       "\n",
       "    .dataframe thead th {\n",
       "        text-align: right;\n",
       "    }\n",
       "</style>\n",
       "<table border=\"1\" class=\"dataframe\">\n",
       "  <thead>\n",
       "    <tr style=\"text-align: right;\">\n",
       "      <th></th>\n",
       "      <th>label</th>\n",
       "      <th>split</th>\n",
       "      <th>original</th>\n",
       "    </tr>\n",
       "  </thead>\n",
       "  <tbody>\n",
       "    <tr>\n",
       "      <th>aagfhgtpmv.mp4</th>\n",
       "      <td>FAKE</td>\n",
       "      <td>train</td>\n",
       "      <td>vudstovrck.mp4</td>\n",
       "    </tr>\n",
       "    <tr>\n",
       "      <th>aapnvogymq.mp4</th>\n",
       "      <td>FAKE</td>\n",
       "      <td>train</td>\n",
       "      <td>jdubbvfswz.mp4</td>\n",
       "    </tr>\n",
       "    <tr>\n",
       "      <th>abarnvbtwb.mp4</th>\n",
       "      <td>REAL</td>\n",
       "      <td>train</td>\n",
       "      <td>None</td>\n",
       "    </tr>\n",
       "    <tr>\n",
       "      <th>abofeumbvv.mp4</th>\n",
       "      <td>FAKE</td>\n",
       "      <td>train</td>\n",
       "      <td>atvmxvwyns.mp4</td>\n",
       "    </tr>\n",
       "    <tr>\n",
       "      <th>abqwwspghj.mp4</th>\n",
       "      <td>FAKE</td>\n",
       "      <td>train</td>\n",
       "      <td>qzimuostzz.mp4</td>\n",
       "    </tr>\n",
       "  </tbody>\n",
       "</table>\n",
       "</div>"
      ],
      "text/plain": [
       "               label  split        original\n",
       "aagfhgtpmv.mp4  FAKE  train  vudstovrck.mp4\n",
       "aapnvogymq.mp4  FAKE  train  jdubbvfswz.mp4\n",
       "abarnvbtwb.mp4  REAL  train            None\n",
       "abofeumbvv.mp4  FAKE  train  atvmxvwyns.mp4\n",
       "abqwwspghj.mp4  FAKE  train  qzimuostzz.mp4"
      ]
     },
     "execution_count": 15,
     "metadata": {},
     "output_type": "execute_result"
    }
   ],
   "source": [
    "def get_meta_from_json(path):\n",
    "    df = pd.read_json(os.path.join(DATA_FOLDER, path, json_file))\n",
    "    df = df.T\n",
    "    return df\n",
    "\n",
    "meta_train_df = get_meta_from_json(TRAIN_SAMPLE_FOLDER)\n",
    "meta_train_df.head()"
   ]
  },
  {
   "cell_type": "markdown",
   "metadata": {},
   "source": [
    "# <a id=\"3\">Meta data exploration</a>\n",
    "\n",
    "Let's explore now the meta data in train sample. \n",
    "\n",
    "## Missing data\n",
    "\n",
    "We start by checking for any missing values. "
   ]
  },
  {
   "cell_type": "code",
   "execution_count": 16,
   "metadata": {},
   "outputs": [
    {
     "data": {
      "text/html": [
       "<div>\n",
       "<style scoped>\n",
       "    .dataframe tbody tr th:only-of-type {\n",
       "        vertical-align: middle;\n",
       "    }\n",
       "\n",
       "    .dataframe tbody tr th {\n",
       "        vertical-align: top;\n",
       "    }\n",
       "\n",
       "    .dataframe thead th {\n",
       "        text-align: right;\n",
       "    }\n",
       "</style>\n",
       "<table border=\"1\" class=\"dataframe\">\n",
       "  <thead>\n",
       "    <tr style=\"text-align: right;\">\n",
       "      <th></th>\n",
       "      <th>label</th>\n",
       "      <th>split</th>\n",
       "      <th>original</th>\n",
       "    </tr>\n",
       "  </thead>\n",
       "  <tbody>\n",
       "    <tr>\n",
       "      <th>Total</th>\n",
       "      <td>0</td>\n",
       "      <td>0</td>\n",
       "      <td>77</td>\n",
       "    </tr>\n",
       "    <tr>\n",
       "      <th>Percent</th>\n",
       "      <td>0.0</td>\n",
       "      <td>0.0</td>\n",
       "      <td>19.25</td>\n",
       "    </tr>\n",
       "    <tr>\n",
       "      <th>Types</th>\n",
       "      <td>object</td>\n",
       "      <td>object</td>\n",
       "      <td>object</td>\n",
       "    </tr>\n",
       "  </tbody>\n",
       "</table>\n",
       "</div>"
      ],
      "text/plain": [
       "          label   split original\n",
       "Total         0       0       77\n",
       "Percent     0.0     0.0    19.25\n",
       "Types    object  object   object"
      ]
     },
     "execution_count": 16,
     "metadata": {},
     "output_type": "execute_result"
    }
   ],
   "source": [
    "missing_data(meta_train_df)"
   ]
  },
  {
   "cell_type": "markdown",
   "metadata": {},
   "source": [
    "There are missing data 19.25% of the samples (or 77). We suspect that actually the real data has missing original (if we generalize from the data we glimpsed). Let's check this hypothesis."
   ]
  },
  {
   "cell_type": "code",
   "execution_count": 17,
   "metadata": {},
   "outputs": [
    {
     "data": {
      "text/html": [
       "<div>\n",
       "<style scoped>\n",
       "    .dataframe tbody tr th:only-of-type {\n",
       "        vertical-align: middle;\n",
       "    }\n",
       "\n",
       "    .dataframe tbody tr th {\n",
       "        vertical-align: top;\n",
       "    }\n",
       "\n",
       "    .dataframe thead th {\n",
       "        text-align: right;\n",
       "    }\n",
       "</style>\n",
       "<table border=\"1\" class=\"dataframe\">\n",
       "  <thead>\n",
       "    <tr style=\"text-align: right;\">\n",
       "      <th></th>\n",
       "      <th>label</th>\n",
       "      <th>split</th>\n",
       "      <th>original</th>\n",
       "    </tr>\n",
       "  </thead>\n",
       "  <tbody>\n",
       "    <tr>\n",
       "      <th>Total</th>\n",
       "      <td>0</td>\n",
       "      <td>0</td>\n",
       "      <td>77</td>\n",
       "    </tr>\n",
       "    <tr>\n",
       "      <th>Percent</th>\n",
       "      <td>0.0</td>\n",
       "      <td>0.0</td>\n",
       "      <td>100.0</td>\n",
       "    </tr>\n",
       "    <tr>\n",
       "      <th>Types</th>\n",
       "      <td>object</td>\n",
       "      <td>object</td>\n",
       "      <td>object</td>\n",
       "    </tr>\n",
       "  </tbody>\n",
       "</table>\n",
       "</div>"
      ],
      "text/plain": [
       "          label   split original\n",
       "Total         0       0       77\n",
       "Percent     0.0     0.0    100.0\n",
       "Types    object  object   object"
      ]
     },
     "execution_count": 17,
     "metadata": {},
     "output_type": "execute_result"
    }
   ],
   "source": [
    "missing_data(meta_train_df.loc[meta_train_df.label=='REAL'])"
   ]
  },
  {
   "cell_type": "markdown",
   "metadata": {},
   "source": [
    "Indeed, all missing `original` data are the one associated with `REAL` label.  \n",
    "\n",
    "## Unique values;\n",
    "\n",
    "Let's check into more details the unique values."
   ]
  },
  {
   "cell_type": "code",
   "execution_count": 18,
   "metadata": {},
   "outputs": [
    {
     "data": {
      "text/html": [
       "<div>\n",
       "<style scoped>\n",
       "    .dataframe tbody tr th:only-of-type {\n",
       "        vertical-align: middle;\n",
       "    }\n",
       "\n",
       "    .dataframe tbody tr th {\n",
       "        vertical-align: top;\n",
       "    }\n",
       "\n",
       "    .dataframe thead th {\n",
       "        text-align: right;\n",
       "    }\n",
       "</style>\n",
       "<table border=\"1\" class=\"dataframe\">\n",
       "  <thead>\n",
       "    <tr style=\"text-align: right;\">\n",
       "      <th></th>\n",
       "      <th>label</th>\n",
       "      <th>split</th>\n",
       "      <th>original</th>\n",
       "    </tr>\n",
       "  </thead>\n",
       "  <tbody>\n",
       "    <tr>\n",
       "      <th>Total</th>\n",
       "      <td>400</td>\n",
       "      <td>400</td>\n",
       "      <td>323</td>\n",
       "    </tr>\n",
       "    <tr>\n",
       "      <th>Uniques</th>\n",
       "      <td>2</td>\n",
       "      <td>1</td>\n",
       "      <td>209</td>\n",
       "    </tr>\n",
       "  </tbody>\n",
       "</table>\n",
       "</div>"
      ],
      "text/plain": [
       "         label  split  original\n",
       "Total      400    400       323\n",
       "Uniques      2      1       209"
      ]
     },
     "execution_count": 18,
     "metadata": {},
     "output_type": "execute_result"
    }
   ],
   "source": [
    "unique_values(meta_train_df)"
   ]
  },
  {
   "cell_type": "markdown",
   "metadata": {},
   "source": [
    "* We observe that `original` label has the same pattern for uniques values. We know that we have 77 missing data (that's why total is only 323) and we observe that we do have 209 unique examples.  \n",
    "\n",
    "## Most frequent originals\n",
    "\n",
    "Let's look now to the most frequent originals uniques in train sample data.  "
   ]
  },
  {
   "cell_type": "code",
   "execution_count": 19,
   "metadata": {},
   "outputs": [
    {
     "data": {
      "text/html": [
       "<div>\n",
       "<style scoped>\n",
       "    .dataframe tbody tr th:only-of-type {\n",
       "        vertical-align: middle;\n",
       "    }\n",
       "\n",
       "    .dataframe tbody tr th {\n",
       "        vertical-align: top;\n",
       "    }\n",
       "\n",
       "    .dataframe thead th {\n",
       "        text-align: right;\n",
       "    }\n",
       "</style>\n",
       "<table border=\"1\" class=\"dataframe\">\n",
       "  <thead>\n",
       "    <tr style=\"text-align: right;\">\n",
       "      <th></th>\n",
       "      <th>label</th>\n",
       "      <th>split</th>\n",
       "      <th>original</th>\n",
       "    </tr>\n",
       "  </thead>\n",
       "  <tbody>\n",
       "    <tr>\n",
       "      <th>Total</th>\n",
       "      <td>400</td>\n",
       "      <td>400</td>\n",
       "      <td>323</td>\n",
       "    </tr>\n",
       "    <tr>\n",
       "      <th>Most frequent item</th>\n",
       "      <td>FAKE</td>\n",
       "      <td>train</td>\n",
       "      <td>atvmxvwyns.mp4</td>\n",
       "    </tr>\n",
       "    <tr>\n",
       "      <th>Frequency</th>\n",
       "      <td>323</td>\n",
       "      <td>400</td>\n",
       "      <td>6</td>\n",
       "    </tr>\n",
       "    <tr>\n",
       "      <th>Percent from total</th>\n",
       "      <td>80.75</td>\n",
       "      <td>100.0</td>\n",
       "      <td>1.858</td>\n",
       "    </tr>\n",
       "  </tbody>\n",
       "</table>\n",
       "</div>"
      ],
      "text/plain": [
       "                    label  split        original\n",
       "Total                 400    400             323\n",
       "Most frequent item   FAKE  train  atvmxvwyns.mp4\n",
       "Frequency             323    400               6\n",
       "Percent from total  80.75  100.0           1.858"
      ]
     },
     "execution_count": 19,
     "metadata": {},
     "output_type": "execute_result"
    }
   ],
   "source": [
    "most_frequent_values(meta_train_df)"
   ]
  },
  {
   "cell_type": "markdown",
   "metadata": {},
   "source": [
    "We see that most frequent **label** is `FAKE` (80.75%), `meawmsgiti.mp4` is the most frequent **original** (6 samples)."
   ]
  },
  {
   "cell_type": "markdown",
   "metadata": {},
   "source": [
    "Let's do now some data distribution visualizations."
   ]
  },
  {
   "cell_type": "code",
   "execution_count": 20,
   "metadata": {},
   "outputs": [
    {
     "data": {
      "image/png": "[encoded data removed]",
      "text/plain": [
       "<Figure size 400x400 with 1 Axes>"
      ]
     },
     "metadata": {},
     "output_type": "display_data"
    }
   ],
   "source": [
    "plot_count('split', 'split (train)', meta_train_df)"
   ]
  },
  {
   "cell_type": "code",
   "execution_count": 21,
   "metadata": {},
   "outputs": [
    {
     "data": {
      "image/png": "[encoded data removed]",
      "text/plain": [
       "<Figure size 400x400 with 1 Axes>"
      ]
     },
     "metadata": {},
     "output_type": "display_data"
    }
   ],
   "source": [
    "plot_count('label', 'label (train)', meta_train_df)"
   ]
  },
  {
   "cell_type": "markdown",
   "metadata": {},
   "source": [
    "As we can see, the `REAL` are only 19.25% in train sample videos, with the `FAKE`s acounting for 80.75% of the samples. \n",
    "\n",
    "\n",
    "# <a id=\"4\">Video data exploration</a>\n",
    "\n",
    "\n",
    "In the following we will explore some of the video data. \n",
    "\n",
    "\n",
    "## Missing video (or meta) data\n",
    "\n",
    "We check first if the list of files in the meta info and the list from the folder are the same."
   ]
  },
  {
   "cell_type": "code",
   "execution_count": 22,
   "metadata": {},
   "outputs": [
    {
     "name": "stdout",
     "output_type": "stream",
     "text": [
      "Metadata: 400, Folder: 400\n",
      "Files in metadata and not in folder: 0\n",
      "Files in folder and not in metadata: 0\n"
     ]
    }
   ],
   "source": [
    "meta = np.array(list(meta_train_df.index))\n",
    "storage = np.array([file for file in train_list if  file.endswith('mp4')])\n",
    "print(f\"Metadata: {meta.shape[0]}, Folder: {storage.shape[0]}\")\n",
    "print(f\"Files in metadata and not in folder: {np.setdiff1d(meta,storage,assume_unique=False).shape[0]}\")\n",
    "print(f\"Files in folder and not in metadata: {np.setdiff1d(storage,meta,assume_unique=False).shape[0]}\")"
   ]
  },
  {
   "cell_type": "markdown",
   "metadata": {},
   "source": [
    "Let's visualize now the data.  \n",
    "\n",
    "We select first a list of fake videos.\n",
    "\n",
    "## Few fake videos"
   ]
  },
  {
   "cell_type": "code",
   "execution_count": 23,
   "metadata": {},
   "outputs": [
    {
     "data": {
      "text/plain": [
       "['avgiuextiz.mp4', 'esxrvsgpvb.mp4', 'cdphtzqrvp.mp4']"
      ]
     },
     "execution_count": 23,
     "metadata": {},
     "output_type": "execute_result"
    }
   ],
   "source": [
    "fake_train_sample_video = list(meta_train_df.loc[meta_train_df.label=='FAKE'].sample(3).index)\n",
    "fake_train_sample_video"
   ]
  },
  {
   "cell_type": "markdown",
   "metadata": {},
   "source": [
    "From [4] ([Basic EDA Face Detection, split video, ROI](https://www.kaggle.com/marcovasquez/basic-eda-face-detection-split-video-roi)) we modified a function for displaying a selected image from a video."
   ]
  },
  {
   "cell_type": "code",
   "execution_count": 24,
   "metadata": {},
   "outputs": [],
   "source": [
    "# for video_file in fake_train_sample_video:\n",
    "#     display_image_from_video(os.path.join(DATA_SAMPLE_FOLDER, TRAIN_SAMPLE_FOLDER, video_file))"
   ]
  },
  {
   "cell_type": "markdown",
   "metadata": {},
   "source": [
    "Let's try now the same for few of the images that are real.  \n",
    "\n",
    "\n",
    "## Few real videos"
   ]
  },
  {
   "cell_type": "code",
   "execution_count": 25,
   "metadata": {},
   "outputs": [
    {
     "data": {
      "text/plain": [
       "['clrycekyst.mp4', 'beboztfcme.mp4', 'bddjdhzfze.mp4']"
      ]
     },
     "execution_count": 25,
     "metadata": {},
     "output_type": "execute_result"
    }
   ],
   "source": [
    "real_train_sample_video = list(meta_train_df.loc[meta_train_df.label=='REAL'].sample(3).index)\n",
    "real_train_sample_video"
   ]
  },
  {
   "cell_type": "code",
   "execution_count": 26,
   "metadata": {},
   "outputs": [],
   "source": [
    "# for video_file in real_train_sample_video:\n",
    "#     display_image_from_video(os.path.join(DATA_SAMPLE_FOLDER, TRAIN_SAMPLE_FOLDER, video_file))"
   ]
  },
  {
   "cell_type": "markdown",
   "metadata": {},
   "source": [
    "## Videos with same original\n",
    "\n",
    "Let's look now to set of samples with the same original."
   ]
  },
  {
   "cell_type": "code",
   "execution_count": 27,
   "metadata": {},
   "outputs": [],
   "source": [
    "# meta_train_df['original'].value_counts()[:5]"
   ]
  },
  {
   "cell_type": "markdown",
   "metadata": {},
   "source": [
    "We pick one of the originals with largest number of samples.   \n",
    "\n",
    "We also modify our visualization function to work with multiple images."
   ]
  },
  {
   "cell_type": "code",
   "execution_count": 28,
   "metadata": {},
   "outputs": [],
   "source": [
    "# same_original_fake_train_sample_video = list(meta_train_df.loc[meta_train_df.original=='meawmsgiti.mp4'].index)\n",
    "# display_image_from_video_list(same_original_fake_train_sample_video)"
   ]
  },
  {
   "cell_type": "markdown",
   "metadata": {},
   "source": [
    "Let's look now to a different selection of videos with the same original. "
   ]
  },
  {
   "cell_type": "code",
   "execution_count": 29,
   "metadata": {},
   "outputs": [],
   "source": [
    "# same_original_fake_train_sample_video = list(meta_train_df.loc[meta_train_df.original=='atvmxvwyns.mp4'].index)\n",
    "# display_image_from_video_list(same_original_fake_train_sample_video)"
   ]
  },
  {
   "cell_type": "code",
   "execution_count": 30,
   "metadata": {},
   "outputs": [],
   "source": [
    "# same_original_fake_train_sample_video = list(meta_train_df.loc[meta_train_df.original=='qeumxirsme.mp4'].index)\n",
    "# display_image_from_video_list(same_original_fake_train_sample_video)"
   ]
  },
  {
   "cell_type": "code",
   "execution_count": 31,
   "metadata": {},
   "outputs": [],
   "source": [
    " # same_original_fake_train_sample_video = list(meta_train_df.loc[meta_train_df.original=='kgbkktcjxf.mp4'].index)\n",
    " # display_image_from_video_list(same_original_fake_train_sample_video)"
   ]
  },
  {
   "cell_type": "markdown",
   "metadata": {},
   "source": [
    "## Test video files\n",
    "\n",
    "Let's also look to few of the test data files."
   ]
  },
  {
   "cell_type": "code",
   "execution_count": 32,
   "metadata": {},
   "outputs": [],
   "source": [
    "test_videos = pd.DataFrame(list(os.listdir(os.path.join(DATA_SAMPLE_FOLDER, TEST_FOLDER))), columns=['video'])"
   ]
  },
  {
   "cell_type": "code",
   "execution_count": 33,
   "metadata": {},
   "outputs": [],
   "source": [
    "# test_videos.head()"
   ]
  },
  {
   "cell_type": "markdown",
   "metadata": {},
   "source": [
    "Let's visualize now one of the videos."
   ]
  },
  {
   "cell_type": "code",
   "execution_count": 34,
   "metadata": {},
   "outputs": [],
   "source": [
    "# display_image_from_video(os.path.join(DATA_SAMPLE_FOLDER, TEST_FOLDER, test_videos.iloc[0].video))"
   ]
  },
  {
   "cell_type": "markdown",
   "metadata": {},
   "source": [
    "Let's look to some more videos from test set."
   ]
  },
  {
   "cell_type": "code",
   "execution_count": 35,
   "metadata": {},
   "outputs": [],
   "source": [
    "# display_image_from_video_list(test_videos.sample(6).video, TEST_FOLDER)"
   ]
  },
  {
   "cell_type": "markdown",
   "metadata": {},
   "source": [
    "# <a id='5'>Face detection</a>  \n",
    "\n",
    "From [5] ([Face Detection using OpenCV](https://www.kaggle.com/serkanpeldek/face-detection-with-opencv)) by [@serkanpeldek](https://www.kaggle.com/serkanpeldek) we got and slightly modified the functions to extract face, profile face, eyes and smile.  \n",
    "\n",
    "The class ObjectDetector initialize the cascade classifier (using the imported resource). The function **detect** uses a method of the CascadeClassifier to detect objects into images - in this case the face, eye, smile or profile face."
   ]
  },
  {
   "cell_type": "code",
   "execution_count": 36,
   "metadata": {},
   "outputs": [],
   "source": [
    "class ObjectDetector():\n",
    "    '''\n",
    "    Class for Object Detection\n",
    "    '''\n",
    "    \n",
    "    def __init__(self,object_cascade_path):\n",
    "        '''\n",
    "        param: object_cascade_path - path for the *.xml defining the parameters for {face, eye, smile, profile}\n",
    "        detection algorithm\n",
    "        source of the haarcascade resource is: https://github.com/opencv/opencv/tree/master/data/haarcascades\n",
    "        '''\n",
    "\n",
    "        self.objectCascade=cv.CascadeClassifier(object_cascade_path)\n",
    "\n",
    "\n",
    "    def detect(self, image, \n",
    "               scale_factor=1.3,\n",
    "               min_neighbors=5,\n",
    "               min_size=(20,20)):\n",
    "        '''\n",
    "        Function return rectangle coordinates of object for given image\n",
    "        param: image - image to process\n",
    "        param: scale_factor - scale factor used for object detection\n",
    "        param: min_neighbors - minimum number of parameters considered during object detection\n",
    "        param: min_size - minimum size of bounding box for object detected\n",
    "        '''\n",
    "        return self.objectCascade.detectMultiScale(\n",
    "            image,\n",
    "            scaleFactor=scale_factor,\n",
    "            minNeighbors=min_neighbors,\n",
    "            minSize=min_size,\n",
    "        )"
   ]
  },
  {
   "cell_type": "markdown",
   "metadata": {},
   "source": [
    "We load the resources for frontal face, eye, smile and profile face detection.  \n",
    "\n",
    "Then we initialize the `ObjectDetector` objects defined above with the respective resources, to use CascadeClassifier for each specific task."
   ]
  },
  {
   "cell_type": "code",
   "execution_count": 37,
   "metadata": {},
   "outputs": [],
   "source": [
    "# Frontal face, profile, eye and smile  haar cascade loaded\n",
    "\n",
    "frontal_path = f\"{FACE_DETECTION_FOLDER}/haarcascade_frontalface_default.xml\"\n",
    "eye_path = f\"{FACE_DETECTION_FOLDER}/haarcascade_eye.xml\"\n",
    "profile_path = f\"{FACE_DETECTION_FOLDER}/haarcascade_profileface.xml\"\n",
    "smile_path = f\"{FACE_DETECTION_FOLDER}/haarcascade_smile.xml\"\n",
    "paths_list = [frontal_path, eye_path, profile_path, smile_path]\n",
    "\n",
    "#Detector object created\n",
    "front_d, eye_d, prof_d, smile_d = [ObjectDetector(path) for path in paths_list]\n"
   ]
  },
  {
   "cell_type": "markdown",
   "metadata": {},
   "source": [
    "We also define a function for detection and display of all these specific objects.  \n",
    "\n",
    "The function call the **detect** method of the **ObjectDetector** object. For each object we are using a different shape and color, as following:\n",
    "* Frontal face: green rectangle;  \n",
    "* Eye: red circle;  \n",
    "* Smile: red rectangle;  \n",
    "* Profile face: blue rectangle.  \n",
    "\n",
    "Note: due to a huge amount of false positive, we deactivate for now the smile detector."
   ]
  },
  {
   "cell_type": "code",
   "execution_count": 38,
   "metadata": {},
   "outputs": [],
   "source": [
    "def detect_objects(image, scale_factor, min_neighbors, min_size):\n",
    "    '''\n",
    "    Objects detection function\n",
    "    Identify frontal face, eyes, smile and profile face and display the detected objects over the image\n",
    "    param: image - the image extracted from the video\n",
    "    param: scale_factor - scale factor parameter for `detect` function of ObjectDetector object\n",
    "    param: min_neighbors - min neighbors parameter for `detect` function of ObjectDetector object\n",
    "    param: min_size - minimum size parameter for f`detect` function of ObjectDetector object\n",
    "    '''\n",
    "    \n",
    "    image_gray=cv.cvtColor(image, cv.COLOR_BGR2GRAY)\n",
    "\n",
    "\n",
    "    eyes=eye_d.detect(image_gray,\n",
    "                   scale_factor=scale_factor,\n",
    "                   min_neighbors=min_neighbors,\n",
    "                   min_size=(int(min_size[0]/2), int(min_size[1]/2)))\n",
    "\n",
    "    for x, y, w, h in eyes:\n",
    "        #detected eyes shown in color image\n",
    "        cv.circle(image,(int(x+w/2),int(y+h/2)),(int((w + h)/4)),(0, 0,255),3)\n",
    " \n",
    "    # deactivated due to many false positive\n",
    "    #smiles=smile_d.detect(image_gray,\n",
    "    #               scale_factor=scale_factor,\n",
    "    #               min_neighbors=min_neighbors,\n",
    "    #               min_size=(int(min_size[0]/2), int(min_size[1]/2)))\n",
    "\n",
    "    #for x, y, w, h in smiles:\n",
    "    #    #detected smiles shown in color image\n",
    "    #    cv.rectangle(image,(x,y),(x+w, y+h),(0, 0,255),3)\n",
    "\n",
    "\n",
    "    profiles=prof_d.detect(image_gray,\n",
    "                   scale_factor=scale_factor,\n",
    "                   min_neighbors=min_neighbors,\n",
    "                   min_size=min_size)\n",
    "\n",
    "    for x, y, w, h in profiles:\n",
    "        #detected profiles shown in color image\n",
    "        cv.rectangle(image,(x,y),(x+w, y+h),(255, 0,0),3)\n",
    "\n",
    "    faces=front_d.detect(image_gray,\n",
    "                   scale_factor=scale_factor,\n",
    "                   min_neighbors=min_neighbors,\n",
    "                   min_size=min_size)\n",
    "\n",
    "    for x, y, w, h in faces:\n",
    "        #detected faces shown in color image\n",
    "        cv.rectangle(image,(x,y),(x+w, y+h),(0, 255,0),3)\n",
    "\n",
    "    # image\n",
    "    fig = plt.figure(figsize=(10,10))\n",
    "    ax = fig.add_subplot(111)\n",
    "    image = cv.cvtColor(image, cv.COLOR_BGR2RGB)\n",
    "    ax.imshow(image)"
   ]
  },
  {
   "cell_type": "markdown",
   "metadata": {},
   "source": [
    "The following function extracts an image from a video and then call the function that extracts the face rectangle from the image and display the rectangle above the image."
   ]
  },
  {
   "cell_type": "code",
   "execution_count": 39,
   "metadata": {},
   "outputs": [],
   "source": [
    "def extract_image_objects(video_file, video_set_folder=TRAIN_SAMPLE_FOLDER):\n",
    "    '''\n",
    "    Extract one image from the video and then perform face/eyes/smile/profile detection on the image\n",
    "    param: video_file - the video from which to extract the image from which we extract the face\n",
    "    '''\n",
    "    video_path = os.path.join(DATA_FOLDER, video_set_folder,video_file)\n",
    "    capture_image = cv.VideoCapture(video_path) \n",
    "    ret, frame = capture_image.read()\n",
    "    #frame = cv.cvtColor(frame, cv.COLOR_BGR2RGB)\n",
    "    detect_objects(image=frame, scale_factor=1.3, min_neighbors=5, min_size=(50, 50))"
   ]
  },
  {
   "cell_type": "markdown",
   "metadata": {},
   "source": [
    "We apply the function for face detection for a selection of images from train sample videos."
   ]
  },
  {
   "cell_type": "code",
   "execution_count": 40,
   "metadata": {},
   "outputs": [],
   "source": [
    "# same_original_fake_train_sample_video = list(meta_train_df.loc[meta_train_df.original=='kgbkktcjxf.mp4'].index)\n",
    "# for video_file in same_original_fake_train_sample_video[1:4]:\n",
    "#     print(video_file)\n",
    "#     extract_image_objects(video_file)"
   ]
  },
  {
   "cell_type": "code",
   "execution_count": 41,
   "metadata": {},
   "outputs": [],
   "source": [
    "# train_subsample_video = list(meta_train_df.sample(3).index)\n",
    "# for video_file in train_subsample_video:\n",
    "#     print(video_file)\n",
    "#     extract_image_objects(video_file)"
   ]
  },
  {
   "cell_type": "markdown",
   "metadata": {},
   "source": [
    "Let's look to a small collection of samples from test videos."
   ]
  },
  {
   "cell_type": "code",
   "execution_count": 42,
   "metadata": {},
   "outputs": [],
   "source": [
    "# subsample_test_videos = list(test_videos.sample(3).video)\n",
    "# for video_file in subsample_test_videos:\n",
    "#     print(video_file)\n",
    "#     extract_image_objects(video_file, TEST_FOLDER)"
   ]
  },
  {
   "cell_type": "markdown",
   "metadata": {},
   "source": [
    "We can observe that in some cases, when the subject is not looking frontally or when the luminosity is low, the algorithm for face detection is not detecting the face or eyes correctly. Due to a large amount of false positive, we deactivated for now the smile detector."
   ]
  },
  {
   "cell_type": "markdown",
   "metadata": {},
   "source": [
    "## Play video files  \n",
    "\n",
    "From [Play video and processing](https://www.kaggle.com/hamditarek/play-video-and-processing) Kernel by [@hamditarek](https://www.kaggle.com/hamditarek) we learned how to play video files in a Kaggle Kernel.  \n",
    "Let's look to few fake videos."
   ]
  },
  {
   "cell_type": "code",
   "execution_count": 43,
   "metadata": {},
   "outputs": [],
   "source": [
    "fake_videos = list(meta_train_df.loc[meta_train_df.label=='FAKE'].index)"
   ]
  },
  {
   "cell_type": "code",
   "execution_count": 44,
   "metadata": {},
   "outputs": [],
   "source": [
    "# play_video(fake_videos[0])"
   ]
  },
  {
   "cell_type": "code",
   "execution_count": 45,
   "metadata": {},
   "outputs": [],
   "source": [
    "# play_video(fake_videos[1])"
   ]
  },
  {
   "cell_type": "code",
   "execution_count": 46,
   "metadata": {},
   "outputs": [],
   "source": [
    "# play_video(fake_videos[2])"
   ]
  },
  {
   "cell_type": "code",
   "execution_count": 47,
   "metadata": {},
   "outputs": [],
   "source": [
    "# play_video(fake_videos[3])"
   ]
  },
  {
   "cell_type": "code",
   "execution_count": 48,
   "metadata": {},
   "outputs": [],
   "source": [
    "# play_video(fake_videos[4])"
   ]
  },
  {
   "cell_type": "code",
   "execution_count": 49,
   "metadata": {},
   "outputs": [],
   "source": [
    "# play_video(fake_videos[5])"
   ]
  },
  {
   "cell_type": "code",
   "execution_count": 50,
   "metadata": {},
   "outputs": [],
   "source": [
    "# play_video(fake_videos[10])"
   ]
  },
  {
   "cell_type": "code",
   "execution_count": 51,
   "metadata": {},
   "outputs": [],
   "source": [
    "# play_video(fake_videos[12])"
   ]
  },
  {
   "cell_type": "code",
   "execution_count": 52,
   "metadata": {},
   "outputs": [],
   "source": [
    "# play_video(fake_videos[15])"
   ]
  },
  {
   "cell_type": "code",
   "execution_count": 53,
   "metadata": {},
   "outputs": [],
   "source": [
    "# play_video(fake_videos[18])"
   ]
  },
  {
   "cell_type": "markdown",
   "metadata": {},
   "source": [
    "From visual inspection of these fakes videos, in some cases is very easy to spot the anomalies created when engineering the deep fake, in some cases is more difficult."
   ]
  },
  {
   "cell_type": "code",
   "execution_count": 54,
   "metadata": {},
   "outputs": [],
   "source": [
    "with open(DATA_CONFIG, 'r') as f:\n",
    "    data = json.load(f)\n",
    "\n",
    "DATA_FOLDER = data['data path'][getpass.getuser()][0]\n",
    "COMPRESSED_DATA_FOLDER = data['data path'][getpass.getuser()][1]\n",
    "BATCH_SIZE = data['batch size']\n",
    "DATA_DIRECTORIES = os.listdir(DATA_FOLDER)"
   ]
  },
  {
   "cell_type": "markdown",
   "metadata": {},
   "source": [
    "### Read meta data into Pandas' DataFrame"
   ]
  },
  {
   "cell_type": "code",
   "execution_count": 55,
   "metadata": {},
   "outputs": [
    {
     "data": {
      "text/html": [
       "<div>\n",
       "<style scoped>\n",
       "    .dataframe tbody tr th:only-of-type {\n",
       "        vertical-align: middle;\n",
       "    }\n",
       "\n",
       "    .dataframe tbody tr th {\n",
       "        vertical-align: top;\n",
       "    }\n",
       "\n",
       "    .dataframe thead th {\n",
       "        text-align: right;\n",
       "    }\n",
       "</style>\n",
       "<table border=\"1\" class=\"dataframe\">\n",
       "  <thead>\n",
       "    <tr style=\"text-align: right;\">\n",
       "      <th></th>\n",
       "      <th>label</th>\n",
       "      <th>split</th>\n",
       "      <th>original</th>\n",
       "      <th>part</th>\n",
       "      <th>path</th>\n",
       "      <th>path-compressed</th>\n",
       "      <th>filename</th>\n",
       "    </tr>\n",
       "  </thead>\n",
       "  <tbody>\n",
       "    <tr>\n",
       "      <th>qdjfbfqwau.mp4</th>\n",
       "      <td>FAKE</td>\n",
       "      <td>train</td>\n",
       "      <td>lkjgzcuaoi.mp4</td>\n",
       "      <td>4</td>\n",
       "      <td>F:\\dfdc\\dfdc_train_part_12</td>\n",
       "      <td>F:\\dfdc-comp\\dfdc_train_part_12</td>\n",
       "      <td>qdjfbfqwau.mp4</td>\n",
       "    </tr>\n",
       "    <tr>\n",
       "      <th>shenidieml.mp4</th>\n",
       "      <td>FAKE</td>\n",
       "      <td>train</td>\n",
       "      <td>abzkauwmbl.mp4</td>\n",
       "      <td>38</td>\n",
       "      <td>F:\\dfdc\\dfdc_train_part_43</td>\n",
       "      <td>F:\\dfdc-comp\\dfdc_train_part_43</td>\n",
       "      <td>shenidieml.mp4</td>\n",
       "    </tr>\n",
       "    <tr>\n",
       "      <th>pruskulhhm.mp4</th>\n",
       "      <td>FAKE</td>\n",
       "      <td>train</td>\n",
       "      <td>osyfcyjccv.mp4</td>\n",
       "      <td>39</td>\n",
       "      <td>F:\\dfdc\\dfdc_train_part_44</td>\n",
       "      <td>F:\\dfdc-comp\\dfdc_train_part_44</td>\n",
       "      <td>pruskulhhm.mp4</td>\n",
       "    </tr>\n",
       "    <tr>\n",
       "      <th>mkejzspdrg.mp4</th>\n",
       "      <td>FAKE</td>\n",
       "      <td>train</td>\n",
       "      <td>fpodzuuebt.mp4</td>\n",
       "      <td>27</td>\n",
       "      <td>F:\\dfdc\\dfdc_train_part_33</td>\n",
       "      <td>F:\\dfdc-comp\\dfdc_train_part_33</td>\n",
       "      <td>mkejzspdrg.mp4</td>\n",
       "    </tr>\n",
       "    <tr>\n",
       "      <th>ehrsmbkjtb.mp4</th>\n",
       "      <td>FAKE</td>\n",
       "      <td>train</td>\n",
       "      <td>bmrwcqrpyp.mp4</td>\n",
       "      <td>8</td>\n",
       "      <td>F:\\dfdc\\dfdc_train_part_16</td>\n",
       "      <td>F:\\dfdc-comp\\dfdc_train_part_16</td>\n",
       "      <td>ehrsmbkjtb.mp4</td>\n",
       "    </tr>\n",
       "  </tbody>\n",
       "</table>\n",
       "</div>"
      ],
      "text/plain": [
       "               label  split        original  part                        path  \\\n",
       "qdjfbfqwau.mp4  FAKE  train  lkjgzcuaoi.mp4     4  F:\\dfdc\\dfdc_train_part_12   \n",
       "shenidieml.mp4  FAKE  train  abzkauwmbl.mp4    38  F:\\dfdc\\dfdc_train_part_43   \n",
       "pruskulhhm.mp4  FAKE  train  osyfcyjccv.mp4    39  F:\\dfdc\\dfdc_train_part_44   \n",
       "mkejzspdrg.mp4  FAKE  train  fpodzuuebt.mp4    27  F:\\dfdc\\dfdc_train_part_33   \n",
       "ehrsmbkjtb.mp4  FAKE  train  bmrwcqrpyp.mp4     8  F:\\dfdc\\dfdc_train_part_16   \n",
       "\n",
       "                                path-compressed        filename  \n",
       "qdjfbfqwau.mp4  F:\\dfdc-comp\\dfdc_train_part_12  qdjfbfqwau.mp4  \n",
       "shenidieml.mp4  F:\\dfdc-comp\\dfdc_train_part_43  shenidieml.mp4  \n",
       "pruskulhhm.mp4  F:\\dfdc-comp\\dfdc_train_part_44  pruskulhhm.mp4  \n",
       "mkejzspdrg.mp4  F:\\dfdc-comp\\dfdc_train_part_33  mkejzspdrg.mp4  \n",
       "ehrsmbkjtb.mp4  F:\\dfdc-comp\\dfdc_train_part_16  ehrsmbkjtb.mp4  "
      ]
     },
     "metadata": {},
     "output_type": "display_data"
    }
   ],
   "source": [
    "meta_df = read_meta_from_json(DATA_DIRECTORIES, DATA_FOLDER, COMPRESSED_DATA_FOLDER)"
   ]
  },
  {
   "cell_type": "markdown",
   "metadata": {},
   "source": [
    "### Total number of videos in the dataset"
   ]
  },
  {
   "cell_type": "code",
   "execution_count": 56,
   "metadata": {},
   "outputs": [
    {
     "name": "stdout",
     "output_type": "stream",
     "text": [
      "Data samples: 119154\n"
     ]
    }
   ],
   "source": [
    "print(f\"Data samples: {len(meta_df)}\")"
   ]
  },
  {
   "cell_type": "markdown",
   "metadata": {},
   "source": [
    "### Full data set exploration\n",
    "\n",
    "1. Histogram"
   ]
  },
  {
   "cell_type": "code",
   "execution_count": 57,
   "metadata": {},
   "outputs": [
    {
     "data": {
      "image/png": "[encoded data removed]",
      "text/plain": [
       "<Figure size 400x400 with 1 Axes>"
      ]
     },
     "metadata": {},
     "output_type": "display_data"
    }
   ],
   "source": [
    "plot_count('label', 'label (train)', meta_df)"
   ]
  },
  {
   "cell_type": "markdown",
   "metadata": {},
   "source": [
    "### Use DataLoader to load the videos \n",
    "\n",
    "1. **shuffle:** ON\n",
    "2. **batch size:** 3\n",
    "3. **source:** DATA_FOLDER\n",
    "4. **compressed data:** COMPRESSED_DATA_FOLDER"
   ]
  },
  {
   "cell_type": "code",
   "execution_count": 58,
   "metadata": {},
   "outputs": [],
   "source": [
    "loader = DataLoader(VideoDataset(DATA_FOLDER, 'train'), batch_size=3, shuffle=True)"
   ]
  },
  {
   "cell_type": "code",
   "execution_count": null,
   "metadata": {},
   "outputs": [],
   "source": []
  },
  {
   "cell_type": "code",
   "execution_count": 59,
   "metadata": {},
   "outputs": [],
   "source": [
    "# data, label = next(iter(loader))\n",
    "# fig = plt.figure(figsize=(12, 12))\n",
    "\n",
    "# for i in range(BATCH_SIZE):\n",
    "#   video = data[i]\n",
    "#   fig.add_subplot(BATCH_SIZE, 3, BATCH_SIZE*i + 1)\n",
    "#   plt.imshow(video[0])\n",
    "#   fig.add_subplot(BATCH_SIZE, 3, BATCH_SIZE*i + 2)\n",
    "#   plt.imshow(video[100])\n",
    "#   fig.add_subplot(BATCH_SIZE, 3, BATCH_SIZE*i + 3)\n",
    "#   plt.imshow(video[-1])\n",
    "\n",
    "# print(label)\n"
   ]
  },
  {
   "cell_type": "code",
   "execution_count": null,
   "metadata": {},
   "outputs": [],
   "source": [
    "import torch\n",
    "from torch.utils.data import Dataset, DataLoader\n",
    "import glob\n",
    "\n",
    "class TensorDataset(Dataset):\n",
    "    def __init__(self, tensor_files):\n",
    "        self.tensor_files = tensor_files\n",
    "\n",
    "    def __len__(self):\n",
    "        return len(self.tensor_files)\n",
    "\n",
    "    def __getitem__(self, idx):\n",
    "        tensor_data = torch.load(self.tensor_files[idx])\n",
    "        inputs = tensor_data['inputs']  # Assuming the file contains a dictionary with 'inputs'\n",
    "        labels = tensor_data['labels']  # Assuming the file contains a dictionary with 'labels'\n",
    "        return inputs, labels\n",
    "\n",
    "# List all tensor files in a directory\n",
    "tensor_files = glob.glob('path_to_tensor_files/*.pt')\n",
    "\n",
    "# Create the dataset\n",
    "dataset = TensorDataset(tensor_files)\n",
    "\n",
    "# Create the DataLoader\n",
    "dataloader = DataLoader(dataset, batch_size=4, shuffle=True, num_workers=2)"
   ]
  },
  {
   "cell_type": "code",
   "execution_count": 67,
   "metadata": {},
   "outputs": [
    {
     "name": "stdout",
     "output_type": "stream",
     "text": [
      "----------------------------------------------------------------\n",
      "        Layer (type)               Output Shape         Param #\n",
      "================================================================\n",
      "         ZeroPad2d-1     [-1, 1, 201, 201, 201]               0\n",
      "Conv3dStaticSamePadding-2    [-1, 32, 100, 100, 100]             864\n",
      "       BatchNorm3d-3    [-1, 32, 100, 100, 100]              64\n",
      "MemoryEfficientSwish-4    [-1, 32, 100, 100, 100]               0\n",
      "         ZeroPad2d-5    [-1, 32, 101, 101, 101]               0\n",
      "Conv3dStaticSamePadding-6       [-1, 32, 50, 50, 50]             864\n",
      "       BatchNorm3d-7       [-1, 32, 50, 50, 50]              64\n",
      "MemoryEfficientSwish-8       [-1, 32, 50, 50, 50]               0\n",
      "          Identity-9          [-1, 32, 1, 1, 1]               0\n",
      "Conv3dStaticSamePadding-10           [-1, 8, 1, 1, 1]             264\n",
      "MemoryEfficientSwish-11           [-1, 8, 1, 1, 1]               0\n",
      "         Identity-12           [-1, 8, 1, 1, 1]               0\n",
      "Conv3dStaticSamePadding-13          [-1, 32, 1, 1, 1]             288\n",
      "         Identity-14       [-1, 32, 50, 50, 50]               0\n",
      "Conv3dStaticSamePadding-15       [-1, 16, 50, 50, 50]             512\n",
      "      BatchNorm3d-16       [-1, 16, 50, 50, 50]              32\n",
      "    MBConvBlock3D-17       [-1, 16, 50, 50, 50]               0\n",
      "         Identity-18       [-1, 16, 50, 50, 50]               0\n",
      "Conv3dStaticSamePadding-19       [-1, 96, 50, 50, 50]           1,536\n",
      "      BatchNorm3d-20       [-1, 96, 50, 50, 50]             192\n",
      "MemoryEfficientSwish-21       [-1, 96, 50, 50, 50]               0\n",
      "        ZeroPad2d-22       [-1, 96, 51, 51, 51]               0\n",
      "Conv3dStaticSamePadding-23       [-1, 96, 25, 25, 25]           2,592\n",
      "      BatchNorm3d-24       [-1, 96, 25, 25, 25]             192\n",
      "MemoryEfficientSwish-25       [-1, 96, 25, 25, 25]               0\n",
      "         Identity-26          [-1, 96, 1, 1, 1]               0\n",
      "Conv3dStaticSamePadding-27           [-1, 4, 1, 1, 1]             388\n",
      "MemoryEfficientSwish-28           [-1, 4, 1, 1, 1]               0\n",
      "         Identity-29           [-1, 4, 1, 1, 1]               0\n",
      "Conv3dStaticSamePadding-30          [-1, 96, 1, 1, 1]             480\n",
      "         Identity-31       [-1, 96, 25, 25, 25]               0\n",
      "Conv3dStaticSamePadding-32       [-1, 24, 25, 25, 25]           2,304\n",
      "      BatchNorm3d-33       [-1, 24, 25, 25, 25]              48\n",
      "    MBConvBlock3D-34       [-1, 24, 25, 25, 25]               0\n",
      "         Identity-35       [-1, 24, 25, 25, 25]               0\n",
      "Conv3dStaticSamePadding-36      [-1, 144, 25, 25, 25]           3,456\n",
      "      BatchNorm3d-37      [-1, 144, 25, 25, 25]             288\n",
      "MemoryEfficientSwish-38      [-1, 144, 25, 25, 25]               0\n",
      "        ZeroPad2d-39      [-1, 144, 27, 27, 27]               0\n",
      "Conv3dStaticSamePadding-40      [-1, 144, 25, 25, 25]           3,888\n",
      "      BatchNorm3d-41      [-1, 144, 25, 25, 25]             288\n",
      "MemoryEfficientSwish-42      [-1, 144, 25, 25, 25]               0\n",
      "         Identity-43         [-1, 144, 1, 1, 1]               0\n",
      "Conv3dStaticSamePadding-44           [-1, 6, 1, 1, 1]             870\n",
      "MemoryEfficientSwish-45           [-1, 6, 1, 1, 1]               0\n",
      "         Identity-46           [-1, 6, 1, 1, 1]               0\n",
      "Conv3dStaticSamePadding-47         [-1, 144, 1, 1, 1]           1,008\n",
      "         Identity-48      [-1, 144, 25, 25, 25]               0\n",
      "Conv3dStaticSamePadding-49       [-1, 24, 25, 25, 25]           3,456\n",
      "      BatchNorm3d-50       [-1, 24, 25, 25, 25]              48\n",
      "    MBConvBlock3D-51       [-1, 24, 25, 25, 25]               0\n",
      "         Identity-52       [-1, 24, 25, 25, 25]               0\n",
      "Conv3dStaticSamePadding-53      [-1, 144, 25, 25, 25]           3,456\n",
      "      BatchNorm3d-54      [-1, 144, 25, 25, 25]             288\n",
      "MemoryEfficientSwish-55      [-1, 144, 25, 25, 25]               0\n",
      "        ZeroPad2d-56      [-1, 144, 28, 28, 28]               0\n",
      "Conv3dStaticSamePadding-57      [-1, 144, 12, 12, 12]          18,000\n",
      "      BatchNorm3d-58      [-1, 144, 12, 12, 12]             288\n",
      "MemoryEfficientSwish-59      [-1, 144, 12, 12, 12]               0\n",
      "         Identity-60         [-1, 144, 1, 1, 1]               0\n",
      "Conv3dStaticSamePadding-61           [-1, 6, 1, 1, 1]             870\n",
      "MemoryEfficientSwish-62           [-1, 6, 1, 1, 1]               0\n",
      "         Identity-63           [-1, 6, 1, 1, 1]               0\n",
      "Conv3dStaticSamePadding-64         [-1, 144, 1, 1, 1]           1,008\n",
      "         Identity-65      [-1, 144, 12, 12, 12]               0\n",
      "Conv3dStaticSamePadding-66       [-1, 40, 12, 12, 12]           5,760\n",
      "      BatchNorm3d-67       [-1, 40, 12, 12, 12]              80\n",
      "    MBConvBlock3D-68       [-1, 40, 12, 12, 12]               0\n",
      "         Identity-69       [-1, 40, 12, 12, 12]               0\n",
      "Conv3dStaticSamePadding-70      [-1, 240, 12, 12, 12]           9,600\n",
      "      BatchNorm3d-71      [-1, 240, 12, 12, 12]             480\n",
      "MemoryEfficientSwish-72      [-1, 240, 12, 12, 12]               0\n",
      "        ZeroPad2d-73      [-1, 240, 16, 16, 16]               0\n",
      "Conv3dStaticSamePadding-74      [-1, 240, 12, 12, 12]          30,000\n",
      "      BatchNorm3d-75      [-1, 240, 12, 12, 12]             480\n",
      "MemoryEfficientSwish-76      [-1, 240, 12, 12, 12]               0\n",
      "         Identity-77         [-1, 240, 1, 1, 1]               0\n",
      "Conv3dStaticSamePadding-78          [-1, 10, 1, 1, 1]           2,410\n",
      "MemoryEfficientSwish-79          [-1, 10, 1, 1, 1]               0\n",
      "         Identity-80          [-1, 10, 1, 1, 1]               0\n",
      "Conv3dStaticSamePadding-81         [-1, 240, 1, 1, 1]           2,640\n",
      "         Identity-82      [-1, 240, 12, 12, 12]               0\n",
      "Conv3dStaticSamePadding-83       [-1, 40, 12, 12, 12]           9,600\n",
      "      BatchNorm3d-84       [-1, 40, 12, 12, 12]              80\n",
      "    MBConvBlock3D-85       [-1, 40, 12, 12, 12]               0\n",
      "         Identity-86       [-1, 40, 12, 12, 12]               0\n",
      "Conv3dStaticSamePadding-87      [-1, 240, 12, 12, 12]           9,600\n",
      "      BatchNorm3d-88      [-1, 240, 12, 12, 12]             480\n",
      "MemoryEfficientSwish-89      [-1, 240, 12, 12, 12]               0\n",
      "        ZeroPad2d-90      [-1, 240, 13, 13, 13]               0\n",
      "Conv3dStaticSamePadding-91         [-1, 240, 6, 6, 6]           6,480\n",
      "      BatchNorm3d-92         [-1, 240, 6, 6, 6]             480\n",
      "MemoryEfficientSwish-93         [-1, 240, 6, 6, 6]               0\n",
      "         Identity-94         [-1, 240, 1, 1, 1]               0\n",
      "Conv3dStaticSamePadding-95          [-1, 10, 1, 1, 1]           2,410\n",
      "MemoryEfficientSwish-96          [-1, 10, 1, 1, 1]               0\n",
      "         Identity-97          [-1, 10, 1, 1, 1]               0\n",
      "Conv3dStaticSamePadding-98         [-1, 240, 1, 1, 1]           2,640\n",
      "         Identity-99         [-1, 240, 6, 6, 6]               0\n",
      "Conv3dStaticSamePadding-100          [-1, 80, 6, 6, 6]          19,200\n",
      "     BatchNorm3d-101          [-1, 80, 6, 6, 6]             160\n",
      "   MBConvBlock3D-102          [-1, 80, 6, 6, 6]               0\n",
      "        Identity-103          [-1, 80, 6, 6, 6]               0\n",
      "Conv3dStaticSamePadding-104         [-1, 480, 6, 6, 6]          38,400\n",
      "     BatchNorm3d-105         [-1, 480, 6, 6, 6]             960\n",
      "MemoryEfficientSwish-106         [-1, 480, 6, 6, 6]               0\n",
      "       ZeroPad2d-107         [-1, 480, 8, 8, 8]               0\n",
      "Conv3dStaticSamePadding-108         [-1, 480, 6, 6, 6]          12,960\n",
      "     BatchNorm3d-109         [-1, 480, 6, 6, 6]             960\n",
      "MemoryEfficientSwish-110         [-1, 480, 6, 6, 6]               0\n",
      "        Identity-111         [-1, 480, 1, 1, 1]               0\n",
      "Conv3dStaticSamePadding-112          [-1, 20, 1, 1, 1]           9,620\n",
      "MemoryEfficientSwish-113          [-1, 20, 1, 1, 1]               0\n",
      "        Identity-114          [-1, 20, 1, 1, 1]               0\n",
      "Conv3dStaticSamePadding-115         [-1, 480, 1, 1, 1]          10,080\n",
      "        Identity-116         [-1, 480, 6, 6, 6]               0\n",
      "Conv3dStaticSamePadding-117          [-1, 80, 6, 6, 6]          38,400\n",
      "     BatchNorm3d-118          [-1, 80, 6, 6, 6]             160\n",
      "   MBConvBlock3D-119          [-1, 80, 6, 6, 6]               0\n",
      "        Identity-120          [-1, 80, 6, 6, 6]               0\n",
      "Conv3dStaticSamePadding-121         [-1, 480, 6, 6, 6]          38,400\n",
      "     BatchNorm3d-122         [-1, 480, 6, 6, 6]             960\n",
      "MemoryEfficientSwish-123         [-1, 480, 6, 6, 6]               0\n",
      "       ZeroPad2d-124         [-1, 480, 8, 8, 8]               0\n",
      "Conv3dStaticSamePadding-125         [-1, 480, 6, 6, 6]          12,960\n",
      "     BatchNorm3d-126         [-1, 480, 6, 6, 6]             960\n",
      "MemoryEfficientSwish-127         [-1, 480, 6, 6, 6]               0\n",
      "        Identity-128         [-1, 480, 1, 1, 1]               0\n",
      "Conv3dStaticSamePadding-129          [-1, 20, 1, 1, 1]           9,620\n",
      "MemoryEfficientSwish-130          [-1, 20, 1, 1, 1]               0\n",
      "        Identity-131          [-1, 20, 1, 1, 1]               0\n",
      "Conv3dStaticSamePadding-132         [-1, 480, 1, 1, 1]          10,080\n",
      "        Identity-133         [-1, 480, 6, 6, 6]               0\n",
      "Conv3dStaticSamePadding-134          [-1, 80, 6, 6, 6]          38,400\n",
      "     BatchNorm3d-135          [-1, 80, 6, 6, 6]             160\n",
      "   MBConvBlock3D-136          [-1, 80, 6, 6, 6]               0\n",
      "        Identity-137          [-1, 80, 6, 6, 6]               0\n",
      "Conv3dStaticSamePadding-138         [-1, 480, 6, 6, 6]          38,400\n",
      "     BatchNorm3d-139         [-1, 480, 6, 6, 6]             960\n",
      "MemoryEfficientSwish-140         [-1, 480, 6, 6, 6]               0\n",
      "       ZeroPad2d-141      [-1, 480, 10, 10, 10]               0\n",
      "Conv3dStaticSamePadding-142         [-1, 480, 6, 6, 6]          60,000\n",
      "     BatchNorm3d-143         [-1, 480, 6, 6, 6]             960\n",
      "MemoryEfficientSwish-144         [-1, 480, 6, 6, 6]               0\n",
      "        Identity-145         [-1, 480, 1, 1, 1]               0\n",
      "Conv3dStaticSamePadding-146          [-1, 20, 1, 1, 1]           9,620\n",
      "MemoryEfficientSwish-147          [-1, 20, 1, 1, 1]               0\n",
      "        Identity-148          [-1, 20, 1, 1, 1]               0\n",
      "Conv3dStaticSamePadding-149         [-1, 480, 1, 1, 1]          10,080\n",
      "        Identity-150         [-1, 480, 6, 6, 6]               0\n",
      "Conv3dStaticSamePadding-151         [-1, 112, 6, 6, 6]          53,760\n",
      "     BatchNorm3d-152         [-1, 112, 6, 6, 6]             224\n",
      "   MBConvBlock3D-153         [-1, 112, 6, 6, 6]               0\n",
      "        Identity-154         [-1, 112, 6, 6, 6]               0\n",
      "Conv3dStaticSamePadding-155         [-1, 672, 6, 6, 6]          75,264\n",
      "     BatchNorm3d-156         [-1, 672, 6, 6, 6]           1,344\n",
      "MemoryEfficientSwish-157         [-1, 672, 6, 6, 6]               0\n",
      "       ZeroPad2d-158      [-1, 672, 10, 10, 10]               0\n",
      "Conv3dStaticSamePadding-159         [-1, 672, 6, 6, 6]          84,000\n",
      "     BatchNorm3d-160         [-1, 672, 6, 6, 6]           1,344\n",
      "MemoryEfficientSwish-161         [-1, 672, 6, 6, 6]               0\n",
      "        Identity-162         [-1, 672, 1, 1, 1]               0\n",
      "Conv3dStaticSamePadding-163          [-1, 28, 1, 1, 1]          18,844\n",
      "MemoryEfficientSwish-164          [-1, 28, 1, 1, 1]               0\n",
      "        Identity-165          [-1, 28, 1, 1, 1]               0\n",
      "Conv3dStaticSamePadding-166         [-1, 672, 1, 1, 1]          19,488\n",
      "        Identity-167         [-1, 672, 6, 6, 6]               0\n",
      "Conv3dStaticSamePadding-168         [-1, 112, 6, 6, 6]          75,264\n",
      "     BatchNorm3d-169         [-1, 112, 6, 6, 6]             224\n",
      "   MBConvBlock3D-170         [-1, 112, 6, 6, 6]               0\n",
      "        Identity-171         [-1, 112, 6, 6, 6]               0\n",
      "Conv3dStaticSamePadding-172         [-1, 672, 6, 6, 6]          75,264\n",
      "     BatchNorm3d-173         [-1, 672, 6, 6, 6]           1,344\n",
      "MemoryEfficientSwish-174         [-1, 672, 6, 6, 6]               0\n",
      "       ZeroPad2d-175      [-1, 672, 10, 10, 10]               0\n",
      "Conv3dStaticSamePadding-176         [-1, 672, 6, 6, 6]          84,000\n",
      "     BatchNorm3d-177         [-1, 672, 6, 6, 6]           1,344\n",
      "MemoryEfficientSwish-178         [-1, 672, 6, 6, 6]               0\n",
      "        Identity-179         [-1, 672, 1, 1, 1]               0\n",
      "Conv3dStaticSamePadding-180          [-1, 28, 1, 1, 1]          18,844\n",
      "MemoryEfficientSwish-181          [-1, 28, 1, 1, 1]               0\n",
      "        Identity-182          [-1, 28, 1, 1, 1]               0\n",
      "Conv3dStaticSamePadding-183         [-1, 672, 1, 1, 1]          19,488\n",
      "        Identity-184         [-1, 672, 6, 6, 6]               0\n",
      "Conv3dStaticSamePadding-185         [-1, 112, 6, 6, 6]          75,264\n",
      "     BatchNorm3d-186         [-1, 112, 6, 6, 6]             224\n",
      "   MBConvBlock3D-187         [-1, 112, 6, 6, 6]               0\n",
      "        Identity-188         [-1, 112, 6, 6, 6]               0\n",
      "Conv3dStaticSamePadding-189         [-1, 672, 6, 6, 6]          75,264\n",
      "     BatchNorm3d-190         [-1, 672, 6, 6, 6]           1,344\n",
      "MemoryEfficientSwish-191         [-1, 672, 6, 6, 6]               0\n",
      "       ZeroPad2d-192         [-1, 672, 9, 9, 9]               0\n",
      "Conv3dStaticSamePadding-193         [-1, 672, 3, 3, 3]          84,000\n",
      "     BatchNorm3d-194         [-1, 672, 3, 3, 3]           1,344\n",
      "MemoryEfficientSwish-195         [-1, 672, 3, 3, 3]               0\n",
      "        Identity-196         [-1, 672, 1, 1, 1]               0\n",
      "Conv3dStaticSamePadding-197          [-1, 28, 1, 1, 1]          18,844\n",
      "MemoryEfficientSwish-198          [-1, 28, 1, 1, 1]               0\n",
      "        Identity-199          [-1, 28, 1, 1, 1]               0\n",
      "Conv3dStaticSamePadding-200         [-1, 672, 1, 1, 1]          19,488\n",
      "        Identity-201         [-1, 672, 3, 3, 3]               0\n",
      "Conv3dStaticSamePadding-202         [-1, 192, 3, 3, 3]         129,024\n",
      "     BatchNorm3d-203         [-1, 192, 3, 3, 3]             384\n",
      "   MBConvBlock3D-204         [-1, 192, 3, 3, 3]               0\n",
      "        Identity-205         [-1, 192, 3, 3, 3]               0\n",
      "Conv3dStaticSamePadding-206        [-1, 1152, 3, 3, 3]         221,184\n",
      "     BatchNorm3d-207        [-1, 1152, 3, 3, 3]           2,304\n",
      "MemoryEfficientSwish-208        [-1, 1152, 3, 3, 3]               0\n",
      "       ZeroPad2d-209        [-1, 1152, 7, 7, 7]               0\n",
      "Conv3dStaticSamePadding-210        [-1, 1152, 3, 3, 3]         144,000\n",
      "     BatchNorm3d-211        [-1, 1152, 3, 3, 3]           2,304\n",
      "MemoryEfficientSwish-212        [-1, 1152, 3, 3, 3]               0\n",
      "        Identity-213        [-1, 1152, 1, 1, 1]               0\n",
      "Conv3dStaticSamePadding-214          [-1, 48, 1, 1, 1]          55,344\n",
      "MemoryEfficientSwish-215          [-1, 48, 1, 1, 1]               0\n",
      "        Identity-216          [-1, 48, 1, 1, 1]               0\n",
      "Conv3dStaticSamePadding-217        [-1, 1152, 1, 1, 1]          56,448\n",
      "        Identity-218        [-1, 1152, 3, 3, 3]               0\n",
      "Conv3dStaticSamePadding-219         [-1, 192, 3, 3, 3]         221,184\n",
      "     BatchNorm3d-220         [-1, 192, 3, 3, 3]             384\n",
      "   MBConvBlock3D-221         [-1, 192, 3, 3, 3]               0\n",
      "        Identity-222         [-1, 192, 3, 3, 3]               0\n",
      "Conv3dStaticSamePadding-223        [-1, 1152, 3, 3, 3]         221,184\n",
      "     BatchNorm3d-224        [-1, 1152, 3, 3, 3]           2,304\n",
      "MemoryEfficientSwish-225        [-1, 1152, 3, 3, 3]               0\n",
      "       ZeroPad2d-226        [-1, 1152, 7, 7, 7]               0\n",
      "Conv3dStaticSamePadding-227        [-1, 1152, 3, 3, 3]         144,000\n",
      "     BatchNorm3d-228        [-1, 1152, 3, 3, 3]           2,304\n",
      "MemoryEfficientSwish-229        [-1, 1152, 3, 3, 3]               0\n",
      "        Identity-230        [-1, 1152, 1, 1, 1]               0\n",
      "Conv3dStaticSamePadding-231          [-1, 48, 1, 1, 1]          55,344\n",
      "MemoryEfficientSwish-232          [-1, 48, 1, 1, 1]               0\n",
      "        Identity-233          [-1, 48, 1, 1, 1]               0\n",
      "Conv3dStaticSamePadding-234        [-1, 1152, 1, 1, 1]          56,448\n",
      "        Identity-235        [-1, 1152, 3, 3, 3]               0\n",
      "Conv3dStaticSamePadding-236         [-1, 192, 3, 3, 3]         221,184\n",
      "     BatchNorm3d-237         [-1, 192, 3, 3, 3]             384\n",
      "   MBConvBlock3D-238         [-1, 192, 3, 3, 3]               0\n",
      "        Identity-239         [-1, 192, 3, 3, 3]               0\n",
      "Conv3dStaticSamePadding-240        [-1, 1152, 3, 3, 3]         221,184\n",
      "     BatchNorm3d-241        [-1, 1152, 3, 3, 3]           2,304\n",
      "MemoryEfficientSwish-242        [-1, 1152, 3, 3, 3]               0\n",
      "       ZeroPad2d-243        [-1, 1152, 7, 7, 7]               0\n",
      "Conv3dStaticSamePadding-244        [-1, 1152, 3, 3, 3]         144,000\n",
      "     BatchNorm3d-245        [-1, 1152, 3, 3, 3]           2,304\n",
      "MemoryEfficientSwish-246        [-1, 1152, 3, 3, 3]               0\n",
      "        Identity-247        [-1, 1152, 1, 1, 1]               0\n",
      "Conv3dStaticSamePadding-248          [-1, 48, 1, 1, 1]          55,344\n",
      "MemoryEfficientSwish-249          [-1, 48, 1, 1, 1]               0\n",
      "        Identity-250          [-1, 48, 1, 1, 1]               0\n",
      "Conv3dStaticSamePadding-251        [-1, 1152, 1, 1, 1]          56,448\n",
      "        Identity-252        [-1, 1152, 3, 3, 3]               0\n",
      "Conv3dStaticSamePadding-253         [-1, 192, 3, 3, 3]         221,184\n",
      "     BatchNorm3d-254         [-1, 192, 3, 3, 3]             384\n",
      "   MBConvBlock3D-255         [-1, 192, 3, 3, 3]               0\n",
      "        Identity-256         [-1, 192, 3, 3, 3]               0\n",
      "Conv3dStaticSamePadding-257        [-1, 1152, 3, 3, 3]         221,184\n",
      "     BatchNorm3d-258        [-1, 1152, 3, 3, 3]           2,304\n",
      "MemoryEfficientSwish-259        [-1, 1152, 3, 3, 3]               0\n",
      "       ZeroPad2d-260        [-1, 1152, 5, 5, 5]               0\n",
      "Conv3dStaticSamePadding-261        [-1, 1152, 3, 3, 3]          31,104\n",
      "     BatchNorm3d-262        [-1, 1152, 3, 3, 3]           2,304\n",
      "MemoryEfficientSwish-263        [-1, 1152, 3, 3, 3]               0\n",
      "        Identity-264        [-1, 1152, 1, 1, 1]               0\n",
      "Conv3dStaticSamePadding-265          [-1, 48, 1, 1, 1]          55,344\n",
      "MemoryEfficientSwish-266          [-1, 48, 1, 1, 1]               0\n",
      "        Identity-267          [-1, 48, 1, 1, 1]               0\n",
      "Conv3dStaticSamePadding-268        [-1, 1152, 1, 1, 1]          56,448\n",
      "        Identity-269        [-1, 1152, 3, 3, 3]               0\n",
      "Conv3dStaticSamePadding-270         [-1, 320, 3, 3, 3]         368,640\n",
      "     BatchNorm3d-271         [-1, 320, 3, 3, 3]             640\n",
      "   MBConvBlock3D-272         [-1, 320, 3, 3, 3]               0\n",
      "        Identity-273         [-1, 320, 3, 3, 3]               0\n",
      "Conv3dStaticSamePadding-274        [-1, 1280, 3, 3, 3]         409,600\n",
      "     BatchNorm3d-275        [-1, 1280, 3, 3, 3]           2,560\n",
      "MemoryEfficientSwish-276        [-1, 1280, 3, 3, 3]               0\n",
      "AdaptiveAvgPool3d-277        [-1, 1280, 1, 1, 1]               0\n",
      "         Dropout-278                 [-1, 1280]               0\n",
      "          Linear-279                    [-1, 2]           2,562\n",
      "================================================================\n",
      "Total params: 4,690,942\n",
      "Trainable params: 4,690,942\n",
      "Non-trainable params: 0\n",
      "----------------------------------------------------------------\n",
      "Input size (MB): 30.52\n",
      "Forward/backward pass size (MB): 2023.29\n",
      "Params size (MB): 17.89\n",
      "Estimated Total Size (MB): 2071.70\n",
      "----------------------------------------------------------------\n",
      "[1] loss: 0.869\n",
      "[2] loss: 0.814\n",
      "Finished Training\n"
     ]
    }
   ],
   "source": [
    "import torch\n",
    "from efficientnet_pytorch_3d import EfficientNet3D\n",
    "from torchsummary import summary\n",
    "\n",
    "# Check if GPU is available and set the device accordingly\n",
    "device = torch.device(\"cuda\" if torch.cuda.is_available() else \"cpu\")\n",
    "\n",
    "# Create the model and move it to the appropriate device\n",
    "model = EfficientNet3D.from_name(\"efficientnet-b0\", override_params={'num_classes': 2}, in_channels=1).to(device)\n",
    "\n",
    "# Print model summary with the input size\n",
    "summary(model, input_size=(1, 200, 200, 200), device=str(device))\n",
    "\n",
    "# Define the loss function and optimizer\n",
    "criterion = torch.nn.CrossEntropyLoss()\n",
    "optimizer = torch.optim.SGD(model.parameters(), lr=0.001, momentum=0.9)\n",
    "\n",
    "# Training loop\n",
    "model.train()\n",
    "for epoch in range(2):\n",
    "    running_loss = 0.0\n",
    "    for i, data in enumerate(dataloader, 0):\n",
    "        # Get the inputs; data is a list of [inputs, labels]\n",
    "        inputs, labels = data\n",
    "        inputs, labels = inputs.to(device), labels.to(device)\n",
    "\n",
    "        # Zero the parameter gradients\n",
    "        optimizer.zero_grad()\n",
    "\n",
    "        # Forward pass\n",
    "        outputs = model(inputs)\n",
    "        loss = criterion(outputs, labels)\n",
    "\n",
    "        # Backward pass and optimize\n",
    "        loss.backward()\n",
    "        optimizer.step()\n",
    "\n",
    "        # Print statistics\n",
    "        running_loss += loss.item()\n",
    "        if i % 10 == 9:    # Print every 10 mini-batches\n",
    "            print('[%d, %5d] loss: %.3f' % (epoch + 1, i + 1, running_loss / 10))\n",
    "            running_loss = 0.0\n",
    "\n",
    "print('Finished Training')"
   ]
  },
  {
   "cell_type": "code",
   "execution_count": 62,
   "metadata": {},
   "outputs": [],
   "source": [
    "# Import necessary libraries and set environment variables\n",
    "# os.environ[\"MKL_NUM_THREADS\"] = \"1\"\n",
    "# os.environ[\"NUMEXPR_NUM_THREADS\"] = \"1\"\n",
    "# os.environ[\"OMP_NUM_THREADS\"] = \"1\"\n",
    "\n",
    "# from albumentations import Compose, RandomBrightnessContrast, HorizontalFlip, FancyPCA, HueSaturationValue, OneOf, ToGray, ShiftScaleRotate, ImageCompression, PadIfNeeded, GaussNoise, GaussianBlur\n",
    "# from utils.augmentation import IsotropicResize\n",
    "# from collections import defaultdict\n",
    "# from sklearn.metrics import log_loss\n",
    "# from torch import topk\n",
    "# import argparse\n",
    "# import cv2\n",
    "# from training import losses\n",
    "# from training.losses import WeightedLosses\n",
    "# from training.tools.config import load_config\n",
    "\n",
    "# from utils import classifiers\n",
    "# from tensorboardX import SummaryWriter\n",
    "# from training.datasets.classifier_dataset import DeepFakeClassifierDataset\n",
    "# # from training.tools.utils import create_optimizer, AverageMeter\n",
    "# # from training.pipelines.train_classifier import train_epoch\n",
    "# # from apex import amp\n",
    "# # from apex.parallel import DistributedDataParallel, convert_syncbn_model\n",
    "# import torch\n",
    "# from torch.backends import cudnn\n",
    "# from torch.nn import DataParallel\n",
    "# from torch.utils.data import DataLoader\n",
    "# from tqdm import tqdm\n",
    "# import torch.distributed as dist\n",
    "\n",
    "# torch.backends.cudnn.benchmark = True\n",
    "# cv2.ocl.setUseOpenCL(False)\n",
    "# cv2.setNumThreads(0)\n"
   ]
  },
  {
   "cell_type": "code",
   "execution_count": null,
   "metadata": {},
   "outputs": [],
   "source": [
    "# # Train classifier functions\n",
    "\n",
    "# # Create training data transformations\n",
    "# def create_train_transforms(size=300):\n",
    "#     return Compose([\n",
    "#         ImageCompression(quality_lower=60, quality_upper=100, p=0.5),\n",
    "#         GaussNoise(p=0.1),\n",
    "#         GaussianBlur(blur_limit=3, p=0.05),\n",
    "#         HorizontalFlip(),\n",
    "#         OneOf([\n",
    "#             IsotropicResize(max_side=size, interpolation_down=cv2.INTER_AREA, interpolation_up=cv2.INTER_CUBIC),\n",
    "#             IsotropicResize(max_side=size, interpolation_down=cv2.INTER_AREA, interpolation_up=cv2.INTER_LINEAR),\n",
    "#             IsotropicResize(max_side=size, interpolation_down=cv2.INTER_LINEAR, interpolation_up=cv2.INTER_LINEAR),\n",
    "#         ], p=1),\n",
    "#         PadIfNeeded(min_height=size, min_width=size, border_mode=cv2.BORDER_CONSTANT),\n",
    "#         OneOf([RandomBrightnessContrast(), FancyPCA(), HueSaturationValue()], p=0.7),\n",
    "#         ToGray(p=0.2),\n",
    "#         ShiftScaleRotate(shift_limit=0.1, scale_limit=0.2, rotate_limit=10, border_mode=cv2.BORDER_CONSTANT, p=0.5),\n",
    "#     ])\n",
    "\n",
    "# # Create validation data transformations\n",
    "# def create_val_transforms(size=300):\n",
    "#     return Compose([\n",
    "#         IsotropicResize(max_side=size, interpolation_down=cv2.INTER_AREA, interpolation_up=cv2.INTER_CUBIC),\n",
    "#         PadIfNeeded(min_height=size, min_width=size, border_mode=cv2.BORDER_CONSTANT),\n",
    "# ])\n",
    "\n",
    "# def validate(net, data_loader, prefix=\"\"):\n",
    "#     probs = defaultdict(list)\n",
    "#     targets = defaultdict(list)\n",
    "\n",
    "#     with torch.no_grad():\n",
    "#         for sample in tqdm(data_loader):\n",
    "#             imgs = sample[\"image\"].cuda()\n",
    "#             img_names = sample[\"img_name\"]\n",
    "#             labels = sample[\"labels\"].cuda().float()\n",
    "#             out = net(imgs)\n",
    "#             labels = labels.cpu().numpy()\n",
    "#             preds = torch.sigmoid(out).cpu().numpy()\n",
    "#             for i in range(out.shape[0]):\n",
    "#                 video, img_id = img_names[i].split(\"/\")\n",
    "#                 probs[video].append(preds[i].tolist())\n",
    "#                 targets[video].append(labels[i].tolist())\n",
    "#     data_x = []\n",
    "#     data_y = []\n",
    "#     for vid, score in probs.items():\n",
    "#         score = np.array(score)\n",
    "#         lbl = targets[vid]\n",
    "\n",
    "#         score = np.mean(score)\n",
    "#         lbl = np.mean(lbl)\n",
    "#         data_x.append(score)\n",
    "#         data_y.append(lbl)\n",
    "#     y = np.array(data_y)\n",
    "#     x = np.array(data_x)\n",
    "#     fake_idx = y > 0.1\n",
    "#     real_idx = y < 0.1\n",
    "#     fake_loss = log_loss(y[fake_idx], x[fake_idx], labels=[0, 1])\n",
    "#     real_loss = log_loss(y[real_idx], x[real_idx], labels=[0, 1])\n",
    "#     print(f\"{prefix}fake_loss\", fake_loss)\n",
    "#     print(f\"{prefix}real_loss\", real_loss)\n",
    "\n",
    "#     return (fake_loss + real_loss) / 2, probs, targets\n",
    "\n",
    "# # Define evaluation and validation functions\n",
    "# def evaluate_val(args, data_val, bce_best, model, snapshot_name, current_epoch, summary_writer):\n",
    "#     print(\"Test phase\")\n",
    "#     model = model.eval()\n",
    "\n",
    "#     bce, probs, targets = validate(model, data_loader=data_val)\n",
    "#     if args.local_rank == 0:\n",
    "#         summary_writer.add_scalar('val/bce', float(bce), global_step=current_epoch)\n",
    "#         if bce < bce_best:\n",
    "#             print(f\"Epoch {current_epoch} improved from {bce_best} to {bce}\")\n",
    "#             if args.output_dir is not None:\n",
    "#                 torch.save({\n",
    "#                     'epoch': current_epoch + 1,\n",
    "#                     'state_dict': model.state_dict(),\n",
    "#                     'bce_best': bce,\n",
    "#                 }, args.output_dir + snapshot_name + \"_best_dice\")\n",
    "#             bce_best = bce\n",
    "#             with open(f\"predictions_{args.fold}.json\", \"w\") as f:\n",
    "#                 json.dump({\"probs\": probs, \"targets\": targets}, f)\n",
    "#         torch.save({\n",
    "#             'epoch': current_epoch + 1,\n",
    "#             'state_dict': model.state_dict(),\n",
    "#             'bce_best': bce_best,\n",
    "#         }, args)"
   ]
  }
 ],
 "metadata": {
  "kernelspec": {
   "display_name": "MyEnv",
   "language": "python",
   "name": "python3"
  },
  "language_info": {
   "codemirror_mode": {
    "name": "ipython",
    "version": 3
   },
   "file_extension": ".py",
   "mimetype": "text/x-python",
   "name": "python",
   "nbconvert_exporter": "python",
   "pygments_lexer": "ipython3",
   "version": "3.9.19"
  }
 },
 "nbformat": 4,
 "nbformat_minor": 2
}
